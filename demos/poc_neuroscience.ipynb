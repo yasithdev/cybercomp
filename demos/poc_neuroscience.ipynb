{
 "cells": [
  {
   "cell_type": "markdown",
   "metadata": {},
   "source": [
    "# Cybercomp Example - Neuroscience\n",
    "\n",
    "Here, multiplicity (e.g., Grid Search) should be explicitly defined"
   ]
  },
  {
   "cell_type": "markdown",
   "metadata": {},
   "source": [
    "## Set Up Code Completions"
   ]
  },
  {
   "cell_type": "code",
   "execution_count": 1,
   "metadata": {
    "scrolled": true
   },
   "outputs": [
    {
     "name": "stdout",
     "output_type": "stream",
     "text": [
      "Connected to cybercomp server on http://127.0.0.1:8765\n"
     ]
    },
    {
     "name": "stderr",
     "output_type": "stream",
     "text": [
      "[Types] : 100%|██████████| 242/242 [00:00<00:00, 4609.00it/s, world]     \n",
      "[Models] : 100%|██████████| 10/10 [00:00<00:00, 3629.86it/s, tunnel_effect/train_model] \n",
      "[Engines] : 100%|██████████| 4/4 [00:00<00:00, 4587.70it/s, python]\n",
      "[Sources] : 100%|██████████| 3/3 [00:00<00:00, 4651.72it/s, tunnel_effect]"
     ]
    },
    {
     "name": "stdout",
     "output_type": "stream",
     "text": [
      "Completions generated at: /Users/yasith/projects/cybercomp/demos/completions\n"
     ]
    },
    {
     "name": "stderr",
     "output_type": "stream",
     "text": [
      "\n"
     ]
    }
   ],
   "source": [
    "from pathlib import Path\n",
    "\n",
    "from cybercomp import API\n",
    "\n",
    "# generate statically typed objects to define experiments\n",
    "api = API(server_url=\"http://127.0.0.1:8765\", base_path=Path(\"./completions\"))\n",
    "api.sync()"
   ]
  },
  {
   "cell_type": "markdown",
   "metadata": {},
   "source": [
    "## Import Cybercomp APIs"
   ]
  },
  {
   "cell_type": "code",
   "execution_count": 2,
   "metadata": {},
   "outputs": [],
   "source": [
    "from cybercomp.functional import experiment, hyperparameter, parameter\n",
    "from cybercomp.functional import fetch\n",
    "from cybercomp.runtimes import LocalRuntime\n",
    "\n",
    "from completions import engines, models\n",
    "from completions.types import *"
   ]
  },
  {
   "cell_type": "markdown",
   "metadata": {},
   "source": [
    "## Exploring Available Models"
   ]
  },
  {
   "cell_type": "code",
   "execution_count": 3,
   "metadata": {},
   "outputs": [
    {
     "name": "stdout",
     "output_type": "stream",
     "text": [
      "->[Model] build\n",
      "  parameters [w/default] (191): ['P[~INsynCore_G_Kl](0.009)', 'P[~RS_sigma_dc](1.0)', 'P[~RS_v_DEND](-60)', 'P[~Ih_TC_cac](0.0015)', 'P[~awake_AMPAd2_fix](0.2)', 'P[~awake_GABAd2](0.22)', 'P[~RS_sigma_e](1.0)', 'P[~FS1_spike](0)', 'P[~IHVA_CX_G_HVA](0.03)', 'P[~out_dir](out)', 'P[~RS_spike](0)', 'P[~gk_cx_slow_rem](1.0)', 'P[~TCcore_memory_GB_K2](0.0012)', 'P[~INsynCore_E_l](-75)', 'P[~FS1_beta_e](0.05)', 'P[~GABA_B_C](0)', 'P[~TCmatrix_G_kl](0.025)', 'P[~Ih_TC_G_h](0.02)', 'P[~FS1_sigma_ii](0.5)', 'P[~TCcore_E_l](-70)', 'P[~GABA_A_old_v](0)', 'P[~TCcore_memory_GB_K3](0.1)', 'P[~gk_cx_slow_s2](1.0)', 'P[~TCmatrix_pc](0.007)', 'P[~awake_AMPAd2](0.2)', 'P[~awake_GABAd2_fix](0.22)', 'P[~IT_RE_G_Ca](1.75)', 'P[~TCcore_D](2)', 'P[~IT_RE_Qh](3)', 'P[~GABA_B_g0](0)', 'P[~gk_cx_slow_s3](1.0)', 'P[~INsyn6_DEND_G_Nap](0.0)', 'P[~gkl_TC_awake_fix](0.79)', 'P[~FS1_alpha](3.8)', 'P[~INaK_G_Na](100)', 'P[~TAU_Map](0.5)', 'P[~TCmatrix_k4](0.001)', 'P[~FS1_sigma_e](0.5)', 'P[~gk_cx_spike_awake](1.0)', 'P[~GABA_A_E_GABA](-70)', 'P[~TCcore_G_h](0.016)', 'P[~TCcore_DC](0)', 'P[~TCmatrix_ginc](2)', 'P[~CXsyn_G_Km](0.02)', 'P[~TCcore_G_A](0)', 'P[~TAUr](25)', 'P[~gk_cx_spike_s2](1.0)', 'P[~RS_mu](0.0005)', 'P[~TCcore_VtrK](-28)', 'P[~CXsyn6_E_l](-68)', 'P[~IT_RE_Qm](5)', 'P[~FS1_v_SOMA](-60)', 'P[~I_HH](1)', 'P[~TCcore_memory_E_GABA](-83)', 'P[~network_config]($(network_config))', 'P[~INaK_Vtr](-50)', 'P[~TCcore_G_kl](0.024)', 'P[~GABA_B_K1](0.52)', 'P[~TCcore_G_K](12)', 'P[~FS1_Tcr](-100)', 'P[~INsynCore_DEND_G_Nap](0.0)', 'P[~TCcore_Vtr](-40)', 'P[~Ih_TC_ginc](1.5)', 'P[~TCmatrix_memory_GB_K2](0.0012)', 'P[~TCcore_memory_GB_K4](0.034)', 'P[~GABA_B_r0](0)', 'P[~CXasyn_G_l](0.022)', 'P[~TCcore_G_Ca](2.5)', 'P[~INsynMatrix_rho](50)', 'P[~TCmatrix_G_h](0.015)', 'P[~INaK_G_K](10)', 'P[~GABA_B_lastrelease](-10000000)', 'P[~gkl_RE_awake](0.9)', 'P[~Ih_TC_pc](0.01)', 'P[~FS1_sigma](-0.0175)', 'P[~N_DEND_1](9)', 'P[~rem_AMPA_TC](0.5)', 'P[~gk_cx_spike_s3](1.0)', 'P[~TCmatrix_E_l](-70)', 'P[~CXsyn6_G_kl](0.01)', 'P[~INsynCore_G_Km](0.02)', 'P[~TCcore_ginc](2.0)', 'P[~gkl_RE_awake_fix](0.9)', 'P[~TCmatrix_memory_GB_K3](0.1)', 'P[~INsyn6_rho](50)', 'P[~s2_AMPA_TC](0.5)', 'P[~TCcore_memory_GB_K1](0.5)', 'P[~stim_config]($(stim_config))', 'P[~FS1_mu](0.002)', 'P[~N_GB](2)', 'P[~CXasyn_G_kl](0.01)', 'P[~INaK_VtrK](-50)', 'P[~gkl_awake_fix](0.19)', 'P[~CXasyn_E_l](-68)', 'P[~gkl_awake](0.19)', 'P[~TCmatrix_D](2)', 'P[~INap_CX_G_Nap](2)', 'P[~FS1_v_DEND](-60)', 'P[~Ih_TC_k3](0.001)', 'P[~FS1_Idc](-0.0)', 'P[~RE_E_l](-77)', 'P[~s2_scale](1.2)', 'P[~IA_TC_G_A](1)', 'P[~FS1_ii](0)', 'P[~network_mri]($(network_mri))', 'P[~CXsyn_G_kl](0.011)', 'P[~TCmatrix_G_A](0)', 'P[~connection_info]($(connection_info))', 'P[~s3_AMPA_TC](0.5)', 'P[~RE_G_Ca](2.2)', 'P[~CXsyn_E_l](-67.0)', 'P[~GABA_A_R1](0)', 'P[~s3_scale](1.8)', 'P[~CXsyn_G_l](0.011)', 'P[~GABA_B_K2](0.0013)', 'P[~TCmatrix_DC](0)', 'P[~TCmatrix_Vtr](-40)', 'P[~CXsyn6_G_Km](0.02)', 'P[~FS1_S_CX_DEND](0.000165)', 'P[~INap_CX_Q10](2.7)', 'P[~TCmatrix_memory_E_GABA](-83)', 'P[~TCmatrix_G_Ca](2.2)', 'P[~TCmatrix_memory_GB_K4](0.034)', 'P[~GABA_A_C](0)', 'P[~INap_CX_f](0.02)', 'P[~INsynCore_SOMA_G_Na](2500)', 'P[~TCmatrix_G_K](12)', 'P[~CXsyn6_G_l](0.022)', 'P[~INa_CX_G_Na](3000)', 'P[~N_TC](12)', 'P[~RE_G_kl](0.012)', 'P[~FS1_beta_ii](0.5)', 'P[~GB_lastrelease](-10000000)', 'P[~TCmatrix_memory_GB_K1](0.5)', 'P[~IKv_CX_G_Kv](150)', 'P[~INsynCore_rho](50)', 'P[~FS1_beta_dc](0.1)', 'P[~TCmatrix_VtrK](-28)', 'P[~IKm_CX_G_Km](0.01)', 'P[~GABA_B_old_v](0)', 'P[~INsynCore_SOMA_G_Nap](0.0)', 'P[~N_TCa](12)', 'P[~MAX_SUBNET_POINTS](12500)', 'P[~FS1_gg](0.5)', 'P[~RS_HHH](0.02)', 'P[~RS_Tcr](-100)', 'P[~INap_CX_Cels](36)', 'P[~distance_3d]($(distance_3d))', 'P[~GABA_A_lastrelease](-100)', 'P[~GABA_A_R](0)', 'P[~gh_TC_awake](-8.0)', 'P[~N_RE](7)', 'P[~N_SOMA](4)', 'P[~GB_C](0)', 'P[~INap_CX_Tet](-42)', 'P[~INsynMatrix_SOMA_G_Na](2500)', 'P[~awake_AMPA_TC](0.5)', 'P[~INsynCore_G_l](0.009)', 'P[~RS_Idc](0)', 'P[~RS_sigma](0.02)', 'P[~subnet_3d]($(subnet_3d))', 'P[~gh_TC_rem](0.0)', 'P[~INsynMatrix_SOMA_G_Nap](0.0)', 'P[~FS1_sigma_dc](1.0)', 'P[~awake_GABA_TC](0.55)', 'P[~RS_alpha](3.65)', 'P[~GABA_B_K4](0.033)', 'P[~awake_GABA_TC_fix](0.55)', 'P[~RS_beta_dc](0.133)', 'P[~rem_scale](0.9)', 'P[~gh_TC_s2](-3.0)', 'P[~GABA_A_R0](0)', 'P[~TCcore_k4](0.001)', 'P[~GABA_B_Cdur](0.3)', 'P[~GABA_A_Alpha](10.5)', 'P[~gh_TC_s3](-2.0)', 'P[~gkl_TC_awake](0.79)', 'P[~RS_v_SOMA](-60)', 'P[~IKCa_CX_G_KCa](0.3)', 'P[~TCcore_pc](0.007)', 'P[~CXasyn_G_Km](0.02)', 'P[~INap_CX_Sig](5)', 'P[~GABA_B_K3](0.098)', 'P[~GABA_A_Beta](0.166)', 'P[~INsyn6_SOMA_G_Na](2500)', 'P[~RS_S_CX_DEND](0.000165)', 'P[~RS_beta_e](0.133)', 'P[~gk_cx_slow_awake](1.0)', 'P[~TAU](0.02)', 'P[~INsynMatrix_DEND_G_Nap](0.0)', 'P[~INsyn6_SOMA_G_Nap](0.0)']\n",
      "  parameters [required] (2): ['P[~overrides](not set)', 'P[~template](not set)']\n",
      "  observables (1): ['O[~code](not set)']\n",
      "\n",
      "->[Model] network_create\n",
      "  parameters [w/default] (3): ['P[~distance_3d]()', 'P[~subnet_3d]()', 'P[~network_mri]()']\n",
      "  parameters [required] (2): ['P[~code](not set)', 'P[~network_config](not set)']\n",
      "  observables (1): ['O[~connection_info](not set)']\n",
      "\n",
      "->[Model] network_update\n",
      "  parameters [w/default] (0): []\n",
      "  parameters [required] (2): ['P[~code](not set)', 'P[~network_config](not set)']\n",
      "  observables (1): ['O[~connection_info](not set)']\n",
      "\n",
      "->[Model] simulate\n",
      "  parameters [w/default] (0): []\n",
      "  parameters [required] (3): ['P[~code](not set)', 'P[~current_params](not set)', 'P[~connection_info](not set)']\n",
      "  observables (32): ['O[~graf_cx6](not set)', 'O[~time_tca](not set)', 'O[~graf_cx](not set)', 'O[~time_tc](not set)', 'O[~graf_re](not set)', 'O[~dat](not set)', 'O[~field_file_2](not set)', 'O[~graf_in6](not set)', 'O[~graf_ina](not set)', 'O[~time_G_AMPA0_CX_CXa](not set)', 'O[~field_file_3](not set)', 'O[~time_G_AMPA0_CX_CX](not set)', 'O[~graf_tca](not set)', 'O[~field_file_0](not set)', 'O[~time_cx](not set)', 'O[~graf_in](not set)', 'O[~time_G_AMPA0_CXa_CXa](not set)', 'O[~time_G_AMPA0_CXa_CX](not set)', 'O[~graf_cxa](not set)', 'O[~field_file_1](not set)', 'O[~field_file_5](not set)', 'O[~time_in](not set)', 'O[~graf_tc](not set)', 'O[~time_cxa](not set)', 'O[~time_cx6](not set)', 'O[~field_file_6](not set)', 'O[~time_re](not set)', 'O[~time_ina](not set)', 'O[~cx_cx_g_ampa0](not set)', 'O[~time_in6](not set)', 'O[~field_file_4](not set)', 'O[~field_file_7](not set)']\n",
      "\n"
     ]
    }
   ],
   "source": [
    "import completions.models.sleep_stage_transition as sst\n",
    "\n",
    "sst.build.describe();\n",
    "sst.network_create.describe();\n",
    "sst.network_update.describe();\n",
    "sst.simulate.describe();"
   ]
  },
  {
   "cell_type": "markdown",
   "metadata": {},
   "source": [
    "## Defining a Multi-Step Experiment"
   ]
  },
  {
   "cell_type": "markdown",
   "metadata": {},
   "source": [
    "Here, you can define individual experiments (i.e., steps) and chain them into larger experiments, if need be.\n",
    "Internally, Cybercomp will connect the outputs from previous experiments into subsequent experiments that depend on them.\n",
    "Users only need to provide the non-inferrable parameters / hyperparameters."
   ]
  },
  {
   "cell_type": "code",
   "execution_count": 4,
   "metadata": {},
   "outputs": [
    {
     "name": "stdout",
     "output_type": "stream",
     "text": [
      "->[Experiment] make_source.setup()\n",
      "  ->[Step] make_source.setup()\n",
      "    ->[Model] build\n",
      "      parameters [w/default] (191): ['P[~INsynCore_G_Kl](0.009)', 'P[~RS_sigma_dc](1.0)', 'P[~RS_v_DEND](-60)', 'P[~Ih_TC_cac](0.0015)', 'P[~awake_AMPAd2_fix](0.2)', 'P[~awake_GABAd2](0.22)', 'P[~RS_sigma_e](1.0)', 'P[~FS1_spike](0)', 'P[~IHVA_CX_G_HVA](0.03)', 'P[~out_dir](out)', 'P[~RS_spike](0)', 'P[~gk_cx_slow_rem](1.0)', 'P[~TCcore_memory_GB_K2](0.0012)', 'P[~INsynCore_E_l](-75)', 'P[~FS1_beta_e](0.05)', 'P[~GABA_B_C](0)', 'P[~TCmatrix_G_kl](0.025)', 'P[~Ih_TC_G_h](0.02)', 'P[~FS1_sigma_ii](0.5)', 'P[~TCcore_E_l](-70)', 'P[~GABA_A_old_v](0)', 'P[~TCcore_memory_GB_K3](0.1)', 'P[~gk_cx_slow_s2](1.0)', 'P[~TCmatrix_pc](0.007)', 'P[~awake_AMPAd2](0.2)', 'P[~awake_GABAd2_fix](0.22)', 'P[~IT_RE_G_Ca](1.75)', 'P[~TCcore_D](2)', 'P[~IT_RE_Qh](3)', 'P[~GABA_B_g0](0)', 'P[~gk_cx_slow_s3](1.0)', 'P[~INsyn6_DEND_G_Nap](0.0)', 'P[~gkl_TC_awake_fix](0.79)', 'P[~FS1_alpha](3.8)', 'P[~INaK_G_Na](100)', 'P[~TAU_Map](0.5)', 'P[~TCmatrix_k4](0.001)', 'P[~FS1_sigma_e](0.5)', 'P[~gk_cx_spike_awake](1.0)', 'P[~GABA_A_E_GABA](-70)', 'P[~TCcore_G_h](0.016)', 'P[~TCcore_DC](0)', 'P[~TCmatrix_ginc](2)', 'P[~CXsyn_G_Km](0.02)', 'P[~TCcore_G_A](0)', 'P[~TAUr](25)', 'P[~gk_cx_spike_s2](1.0)', 'P[~RS_mu](0.0005)', 'P[~TCcore_VtrK](-28)', 'P[~CXsyn6_E_l](-68)', 'P[~IT_RE_Qm](5)', 'P[~FS1_v_SOMA](-60)', 'P[~I_HH](1)', 'P[~TCcore_memory_E_GABA](-83)', 'P[~network_config]($(network_config))', 'P[~INaK_Vtr](-50)', 'P[~TCcore_G_kl](0.024)', 'P[~GABA_B_K1](0.52)', 'P[~TCcore_G_K](12)', 'P[~FS1_Tcr](-100)', 'P[~INsynCore_DEND_G_Nap](0.0)', 'P[~TCcore_Vtr](-40)', 'P[~Ih_TC_ginc](1.5)', 'P[~TCmatrix_memory_GB_K2](0.0012)', 'P[~TCcore_memory_GB_K4](0.034)', 'P[~GABA_B_r0](0)', 'P[~CXasyn_G_l](0.022)', 'P[~TCcore_G_Ca](2.5)', 'P[~INsynMatrix_rho](50)', 'P[~TCmatrix_G_h](0.015)', 'P[~INaK_G_K](10)', 'P[~GABA_B_lastrelease](-10000000)', 'P[~gkl_RE_awake](0.9)', 'P[~Ih_TC_pc](0.01)', 'P[~FS1_sigma](-0.0175)', 'P[~N_DEND_1](9)', 'P[~rem_AMPA_TC](0.5)', 'P[~gk_cx_spike_s3](1.0)', 'P[~TCmatrix_E_l](-70)', 'P[~CXsyn6_G_kl](0.01)', 'P[~INsynCore_G_Km](0.02)', 'P[~TCcore_ginc](2.0)', 'P[~gkl_RE_awake_fix](0.9)', 'P[~TCmatrix_memory_GB_K3](0.1)', 'P[~INsyn6_rho](50)', 'P[~s2_AMPA_TC](0.5)', 'P[~TCcore_memory_GB_K1](0.5)', 'P[~stim_config]($(stim_config))', 'P[~FS1_mu](0.002)', 'P[~N_GB](2)', 'P[~CXasyn_G_kl](0.01)', 'P[~INaK_VtrK](-50)', 'P[~gkl_awake_fix](0.19)', 'P[~CXasyn_E_l](-68)', 'P[~gkl_awake](0.19)', 'P[~TCmatrix_D](2)', 'P[~INap_CX_G_Nap](2)', 'P[~FS1_v_DEND](-60)', 'P[~Ih_TC_k3](0.001)', 'P[~FS1_Idc](-0.0)', 'P[~RE_E_l](-77)', 'P[~s2_scale](1.2)', 'P[~IA_TC_G_A](1)', 'P[~FS1_ii](0)', 'P[~network_mri]($(network_mri))', 'P[~CXsyn_G_kl](0.011)', 'P[~TCmatrix_G_A](0)', 'P[~connection_info]($(connection_info))', 'P[~s3_AMPA_TC](0.5)', 'P[~RE_G_Ca](2.2)', 'P[~CXsyn_E_l](-67.0)', 'P[~GABA_A_R1](0)', 'P[~s3_scale](1.8)', 'P[~CXsyn_G_l](0.011)', 'P[~GABA_B_K2](0.0013)', 'P[~TCmatrix_DC](0)', 'P[~TCmatrix_Vtr](-40)', 'P[~CXsyn6_G_Km](0.02)', 'P[~FS1_S_CX_DEND](0.000165)', 'P[~INap_CX_Q10](2.7)', 'P[~TCmatrix_memory_E_GABA](-83)', 'P[~TCmatrix_G_Ca](2.2)', 'P[~TCmatrix_memory_GB_K4](0.034)', 'P[~GABA_A_C](0)', 'P[~INap_CX_f](0.02)', 'P[~INsynCore_SOMA_G_Na](2500)', 'P[~TCmatrix_G_K](12)', 'P[~CXsyn6_G_l](0.022)', 'P[~INa_CX_G_Na](3000)', 'P[~N_TC](12)', 'P[~RE_G_kl](0.012)', 'P[~FS1_beta_ii](0.5)', 'P[~GB_lastrelease](-10000000)', 'P[~TCmatrix_memory_GB_K1](0.5)', 'P[~IKv_CX_G_Kv](150)', 'P[~INsynCore_rho](50)', 'P[~FS1_beta_dc](0.1)', 'P[~TCmatrix_VtrK](-28)', 'P[~IKm_CX_G_Km](0.01)', 'P[~GABA_B_old_v](0)', 'P[~INsynCore_SOMA_G_Nap](0.0)', 'P[~N_TCa](12)', 'P[~MAX_SUBNET_POINTS](12500)', 'P[~FS1_gg](0.5)', 'P[~RS_HHH](0.02)', 'P[~RS_Tcr](-100)', 'P[~INap_CX_Cels](36)', 'P[~distance_3d]($(distance_3d))', 'P[~GABA_A_lastrelease](-100)', 'P[~GABA_A_R](0)', 'P[~gh_TC_awake](-8.0)', 'P[~N_RE](7)', 'P[~N_SOMA](4)', 'P[~GB_C](0)', 'P[~INap_CX_Tet](-42)', 'P[~INsynMatrix_SOMA_G_Na](2500)', 'P[~awake_AMPA_TC](0.5)', 'P[~INsynCore_G_l](0.009)', 'P[~RS_Idc](0)', 'P[~RS_sigma](0.02)', 'P[~subnet_3d]($(subnet_3d))', 'P[~gh_TC_rem](0.0)', 'P[~INsynMatrix_SOMA_G_Nap](0.0)', 'P[~FS1_sigma_dc](1.0)', 'P[~awake_GABA_TC](0.55)', 'P[~RS_alpha](3.65)', 'P[~GABA_B_K4](0.033)', 'P[~awake_GABA_TC_fix](0.55)', 'P[~RS_beta_dc](0.133)', 'P[~rem_scale](0.9)', 'P[~gh_TC_s2](-3.0)', 'P[~GABA_A_R0](0)', 'P[~TCcore_k4](0.001)', 'P[~GABA_B_Cdur](0.3)', 'P[~GABA_A_Alpha](10.5)', 'P[~gh_TC_s3](-2.0)', 'P[~gkl_TC_awake](0.79)', 'P[~RS_v_SOMA](-60)', 'P[~IKCa_CX_G_KCa](0.3)', 'P[~TCcore_pc](0.007)', 'P[~CXasyn_G_Km](0.02)', 'P[~INap_CX_Sig](5)', 'P[~GABA_B_K3](0.098)', 'P[~GABA_A_Beta](0.166)', 'P[~INsyn6_SOMA_G_Na](2500)', 'P[~RS_S_CX_DEND](0.000165)', 'P[~RS_beta_e](0.133)', 'P[~gk_cx_slow_awake](1.0)', 'P[~TAU](0.02)', 'P[~INsynMatrix_DEND_G_Nap](0.0)', 'P[~INsyn6_SOMA_G_Nap](0.0)']\n",
      "      parameters [required] (2): ['P[~overrides](test.yml)', 'P[~template](sleep_stage_transition)']\n",
      "      observables (1): ['O[~code](/287071185)']\n",
      "\n",
      "    ->[Engine] mustache\n",
      "      hyperparameters (0): set()\n",
      "\n"
     ]
    },
    {
     "data": {
      "text/plain": [
       "<cybercomp.experiment.Experiment at 0x1123991c0>"
      ]
     },
     "execution_count": 4,
     "metadata": {},
     "output_type": "execute_result"
    }
   ],
   "source": [
    "exp0 = experiment(sst.build(), engines.mustache(), name=\"make_source\")\n",
    "exp0.setup({\n",
    "    sst.build.template(\"sleep_stage_transition\"),\n",
    "    sst.build.overrides(\"test.yml\")\n",
    "})"
   ]
  },
  {
   "cell_type": "code",
   "execution_count": 5,
   "metadata": {},
   "outputs": [
    {
     "name": "stdout",
     "output_type": "stream",
     "text": [
      "Acquiring resource: LocalRuntime\n",
      "->[Experiment] make_source.run_sync()\n",
      "  ->[Experiment] make_source.run()\n",
      "    ->[Step] make_source.run()\n",
      "    ->[LocalRuntime] run()\n",
      "        model=  build\n",
      "        engine= mustache\n",
      "        command=python -m sub -s sleep_stage_transition -p test.yml -t /287071185\n",
      "->[Experiment] make_source.run()\n",
      "  ->[Step] make_source.poll()\n",
      "LocalRuntime.poll()\n",
      "model=<completions.models.sleep_stage_transition.build.build object at 0x111da57c0>\n",
      "engine=<completions.engines.mustache.mustache object at 0x105dca660>\n",
      "->[Step] make_source\n",
      "  model=build\n",
      "  engine=mustache\n",
      "\n",
      "  ->[Model] build\n",
      "    parameters [w/default] (191): ['P[~INsynCore_G_Kl](0.009)', 'P[~RS_sigma_dc](1.0)', 'P[~RS_v_DEND](-60)', 'P[~Ih_TC_cac](0.0015)', 'P[~awake_AMPAd2_fix](0.2)', 'P[~awake_GABAd2](0.22)', 'P[~RS_sigma_e](1.0)', 'P[~FS1_spike](0)', 'P[~IHVA_CX_G_HVA](0.03)', 'P[~out_dir](out)', 'P[~RS_spike](0)', 'P[~gk_cx_slow_rem](1.0)', 'P[~TCcore_memory_GB_K2](0.0012)', 'P[~INsynCore_E_l](-75)', 'P[~FS1_beta_e](0.05)', 'P[~GABA_B_C](0)', 'P[~TCmatrix_G_kl](0.025)', 'P[~Ih_TC_G_h](0.02)', 'P[~FS1_sigma_ii](0.5)', 'P[~TCcore_E_l](-70)', 'P[~GABA_A_old_v](0)', 'P[~TCcore_memory_GB_K3](0.1)', 'P[~gk_cx_slow_s2](1.0)', 'P[~TCmatrix_pc](0.007)', 'P[~awake_AMPAd2](0.2)', 'P[~awake_GABAd2_fix](0.22)', 'P[~IT_RE_G_Ca](1.75)', 'P[~TCcore_D](2)', 'P[~IT_RE_Qh](3)', 'P[~GABA_B_g0](0)', 'P[~gk_cx_slow_s3](1.0)', 'P[~INsyn6_DEND_G_Nap](0.0)', 'P[~gkl_TC_awake_fix](0.79)', 'P[~FS1_alpha](3.8)', 'P[~INaK_G_Na](100)', 'P[~TAU_Map](0.5)', 'P[~TCmatrix_k4](0.001)', 'P[~FS1_sigma_e](0.5)', 'P[~gk_cx_spike_awake](1.0)', 'P[~GABA_A_E_GABA](-70)', 'P[~TCcore_G_h](0.016)', 'P[~TCcore_DC](0)', 'P[~TCmatrix_ginc](2)', 'P[~CXsyn_G_Km](0.02)', 'P[~TCcore_G_A](0)', 'P[~TAUr](25)', 'P[~gk_cx_spike_s2](1.0)', 'P[~RS_mu](0.0005)', 'P[~TCcore_VtrK](-28)', 'P[~CXsyn6_E_l](-68)', 'P[~IT_RE_Qm](5)', 'P[~FS1_v_SOMA](-60)', 'P[~I_HH](1)', 'P[~TCcore_memory_E_GABA](-83)', 'P[~network_config]($(network_config))', 'P[~INaK_Vtr](-50)', 'P[~TCcore_G_kl](0.024)', 'P[~GABA_B_K1](0.52)', 'P[~TCcore_G_K](12)', 'P[~FS1_Tcr](-100)', 'P[~INsynCore_DEND_G_Nap](0.0)', 'P[~TCcore_Vtr](-40)', 'P[~Ih_TC_ginc](1.5)', 'P[~TCmatrix_memory_GB_K2](0.0012)', 'P[~TCcore_memory_GB_K4](0.034)', 'P[~GABA_B_r0](0)', 'P[~CXasyn_G_l](0.022)', 'P[~TCcore_G_Ca](2.5)', 'P[~INsynMatrix_rho](50)', 'P[~TCmatrix_G_h](0.015)', 'P[~INaK_G_K](10)', 'P[~GABA_B_lastrelease](-10000000)', 'P[~gkl_RE_awake](0.9)', 'P[~Ih_TC_pc](0.01)', 'P[~FS1_sigma](-0.0175)', 'P[~N_DEND_1](9)', 'P[~rem_AMPA_TC](0.5)', 'P[~gk_cx_spike_s3](1.0)', 'P[~TCmatrix_E_l](-70)', 'P[~CXsyn6_G_kl](0.01)', 'P[~INsynCore_G_Km](0.02)', 'P[~TCcore_ginc](2.0)', 'P[~gkl_RE_awake_fix](0.9)', 'P[~TCmatrix_memory_GB_K3](0.1)', 'P[~INsyn6_rho](50)', 'P[~s2_AMPA_TC](0.5)', 'P[~TCcore_memory_GB_K1](0.5)', 'P[~stim_config]($(stim_config))', 'P[~FS1_mu](0.002)', 'P[~N_GB](2)', 'P[~CXasyn_G_kl](0.01)', 'P[~INaK_VtrK](-50)', 'P[~gkl_awake_fix](0.19)', 'P[~CXasyn_E_l](-68)', 'P[~gkl_awake](0.19)', 'P[~TCmatrix_D](2)', 'P[~INap_CX_G_Nap](2)', 'P[~FS1_v_DEND](-60)', 'P[~Ih_TC_k3](0.001)', 'P[~FS1_Idc](-0.0)', 'P[~RE_E_l](-77)', 'P[~s2_scale](1.2)', 'P[~IA_TC_G_A](1)', 'P[~FS1_ii](0)', 'P[~network_mri]($(network_mri))', 'P[~CXsyn_G_kl](0.011)', 'P[~TCmatrix_G_A](0)', 'P[~connection_info]($(connection_info))', 'P[~s3_AMPA_TC](0.5)', 'P[~RE_G_Ca](2.2)', 'P[~CXsyn_E_l](-67.0)', 'P[~GABA_A_R1](0)', 'P[~s3_scale](1.8)', 'P[~CXsyn_G_l](0.011)', 'P[~GABA_B_K2](0.0013)', 'P[~TCmatrix_DC](0)', 'P[~TCmatrix_Vtr](-40)', 'P[~CXsyn6_G_Km](0.02)', 'P[~FS1_S_CX_DEND](0.000165)', 'P[~INap_CX_Q10](2.7)', 'P[~TCmatrix_memory_E_GABA](-83)', 'P[~TCmatrix_G_Ca](2.2)', 'P[~TCmatrix_memory_GB_K4](0.034)', 'P[~GABA_A_C](0)', 'P[~INap_CX_f](0.02)', 'P[~INsynCore_SOMA_G_Na](2500)', 'P[~TCmatrix_G_K](12)', 'P[~CXsyn6_G_l](0.022)', 'P[~INa_CX_G_Na](3000)', 'P[~N_TC](12)', 'P[~RE_G_kl](0.012)', 'P[~FS1_beta_ii](0.5)', 'P[~GB_lastrelease](-10000000)', 'P[~TCmatrix_memory_GB_K1](0.5)', 'P[~IKv_CX_G_Kv](150)', 'P[~INsynCore_rho](50)', 'P[~FS1_beta_dc](0.1)', 'P[~TCmatrix_VtrK](-28)', 'P[~IKm_CX_G_Km](0.01)', 'P[~GABA_B_old_v](0)', 'P[~INsynCore_SOMA_G_Nap](0.0)', 'P[~N_TCa](12)', 'P[~MAX_SUBNET_POINTS](12500)', 'P[~FS1_gg](0.5)', 'P[~RS_HHH](0.02)', 'P[~RS_Tcr](-100)', 'P[~INap_CX_Cels](36)', 'P[~distance_3d]($(distance_3d))', 'P[~GABA_A_lastrelease](-100)', 'P[~GABA_A_R](0)', 'P[~gh_TC_awake](-8.0)', 'P[~N_RE](7)', 'P[~N_SOMA](4)', 'P[~GB_C](0)', 'P[~INap_CX_Tet](-42)', 'P[~INsynMatrix_SOMA_G_Na](2500)', 'P[~awake_AMPA_TC](0.5)', 'P[~INsynCore_G_l](0.009)', 'P[~RS_Idc](0)', 'P[~RS_sigma](0.02)', 'P[~subnet_3d]($(subnet_3d))', 'P[~gh_TC_rem](0.0)', 'P[~INsynMatrix_SOMA_G_Nap](0.0)', 'P[~FS1_sigma_dc](1.0)', 'P[~awake_GABA_TC](0.55)', 'P[~RS_alpha](3.65)', 'P[~GABA_B_K4](0.033)', 'P[~awake_GABA_TC_fix](0.55)', 'P[~RS_beta_dc](0.133)', 'P[~rem_scale](0.9)', 'P[~gh_TC_s2](-3.0)', 'P[~GABA_A_R0](0)', 'P[~TCcore_k4](0.001)', 'P[~GABA_B_Cdur](0.3)', 'P[~GABA_A_Alpha](10.5)', 'P[~gh_TC_s3](-2.0)', 'P[~gkl_TC_awake](0.79)', 'P[~RS_v_SOMA](-60)', 'P[~IKCa_CX_G_KCa](0.3)', 'P[~TCcore_pc](0.007)', 'P[~CXasyn_G_Km](0.02)', 'P[~INap_CX_Sig](5)', 'P[~GABA_B_K3](0.098)', 'P[~GABA_A_Beta](0.166)', 'P[~INsyn6_SOMA_G_Na](2500)', 'P[~RS_S_CX_DEND](0.000165)', 'P[~RS_beta_e](0.133)', 'P[~gk_cx_slow_awake](1.0)', 'P[~TAU](0.02)', 'P[~INsynMatrix_DEND_G_Nap](0.0)', 'P[~INsyn6_SOMA_G_Nap](0.0)']\n",
      "    parameters [required] (2): ['P[~overrides](test.yml)', 'P[~template](sleep_stage_transition)']\n",
      "    observables (1): ['O[~code](/287071185)']\n",
      "\n",
      "  ->[Engine] mustache\n",
      "    hyperparameters (0): set()\n",
      "\n",
      "->[Experiment] make_source.fetch()\n",
      "  ->[Step] make_source.fetch()\n",
      "LocalRuntime.poll()\n",
      "model=<completions.models.sleep_stage_transition.build.build object at 0x111da57c0>\n",
      "engine=<completions.engines.mustache.mustache object at 0x105dca660>\n",
      "->[Step] make_source\n",
      "  model=build\n",
      "  engine=mustache\n",
      "\n",
      "  ->[Model] build\n",
      "    parameters [w/default] (191): ['P[~INsynCore_G_Kl](0.009)', 'P[~RS_sigma_dc](1.0)', 'P[~RS_v_DEND](-60)', 'P[~Ih_TC_cac](0.0015)', 'P[~awake_AMPAd2_fix](0.2)', 'P[~awake_GABAd2](0.22)', 'P[~RS_sigma_e](1.0)', 'P[~FS1_spike](0)', 'P[~IHVA_CX_G_HVA](0.03)', 'P[~out_dir](out)', 'P[~RS_spike](0)', 'P[~gk_cx_slow_rem](1.0)', 'P[~TCcore_memory_GB_K2](0.0012)', 'P[~INsynCore_E_l](-75)', 'P[~FS1_beta_e](0.05)', 'P[~GABA_B_C](0)', 'P[~TCmatrix_G_kl](0.025)', 'P[~Ih_TC_G_h](0.02)', 'P[~FS1_sigma_ii](0.5)', 'P[~TCcore_E_l](-70)', 'P[~GABA_A_old_v](0)', 'P[~TCcore_memory_GB_K3](0.1)', 'P[~gk_cx_slow_s2](1.0)', 'P[~TCmatrix_pc](0.007)', 'P[~awake_AMPAd2](0.2)', 'P[~awake_GABAd2_fix](0.22)', 'P[~IT_RE_G_Ca](1.75)', 'P[~TCcore_D](2)', 'P[~IT_RE_Qh](3)', 'P[~GABA_B_g0](0)', 'P[~gk_cx_slow_s3](1.0)', 'P[~INsyn6_DEND_G_Nap](0.0)', 'P[~gkl_TC_awake_fix](0.79)', 'P[~FS1_alpha](3.8)', 'P[~INaK_G_Na](100)', 'P[~TAU_Map](0.5)', 'P[~TCmatrix_k4](0.001)', 'P[~FS1_sigma_e](0.5)', 'P[~gk_cx_spike_awake](1.0)', 'P[~GABA_A_E_GABA](-70)', 'P[~TCcore_G_h](0.016)', 'P[~TCcore_DC](0)', 'P[~TCmatrix_ginc](2)', 'P[~CXsyn_G_Km](0.02)', 'P[~TCcore_G_A](0)', 'P[~TAUr](25)', 'P[~gk_cx_spike_s2](1.0)', 'P[~RS_mu](0.0005)', 'P[~TCcore_VtrK](-28)', 'P[~CXsyn6_E_l](-68)', 'P[~IT_RE_Qm](5)', 'P[~FS1_v_SOMA](-60)', 'P[~I_HH](1)', 'P[~TCcore_memory_E_GABA](-83)', 'P[~network_config]($(network_config))', 'P[~INaK_Vtr](-50)', 'P[~TCcore_G_kl](0.024)', 'P[~GABA_B_K1](0.52)', 'P[~TCcore_G_K](12)', 'P[~FS1_Tcr](-100)', 'P[~INsynCore_DEND_G_Nap](0.0)', 'P[~TCcore_Vtr](-40)', 'P[~Ih_TC_ginc](1.5)', 'P[~TCmatrix_memory_GB_K2](0.0012)', 'P[~TCcore_memory_GB_K4](0.034)', 'P[~GABA_B_r0](0)', 'P[~CXasyn_G_l](0.022)', 'P[~TCcore_G_Ca](2.5)', 'P[~INsynMatrix_rho](50)', 'P[~TCmatrix_G_h](0.015)', 'P[~INaK_G_K](10)', 'P[~GABA_B_lastrelease](-10000000)', 'P[~gkl_RE_awake](0.9)', 'P[~Ih_TC_pc](0.01)', 'P[~FS1_sigma](-0.0175)', 'P[~N_DEND_1](9)', 'P[~rem_AMPA_TC](0.5)', 'P[~gk_cx_spike_s3](1.0)', 'P[~TCmatrix_E_l](-70)', 'P[~CXsyn6_G_kl](0.01)', 'P[~INsynCore_G_Km](0.02)', 'P[~TCcore_ginc](2.0)', 'P[~gkl_RE_awake_fix](0.9)', 'P[~TCmatrix_memory_GB_K3](0.1)', 'P[~INsyn6_rho](50)', 'P[~s2_AMPA_TC](0.5)', 'P[~TCcore_memory_GB_K1](0.5)', 'P[~stim_config]($(stim_config))', 'P[~FS1_mu](0.002)', 'P[~N_GB](2)', 'P[~CXasyn_G_kl](0.01)', 'P[~INaK_VtrK](-50)', 'P[~gkl_awake_fix](0.19)', 'P[~CXasyn_E_l](-68)', 'P[~gkl_awake](0.19)', 'P[~TCmatrix_D](2)', 'P[~INap_CX_G_Nap](2)', 'P[~FS1_v_DEND](-60)', 'P[~Ih_TC_k3](0.001)', 'P[~FS1_Idc](-0.0)', 'P[~RE_E_l](-77)', 'P[~s2_scale](1.2)', 'P[~IA_TC_G_A](1)', 'P[~FS1_ii](0)', 'P[~network_mri]($(network_mri))', 'P[~CXsyn_G_kl](0.011)', 'P[~TCmatrix_G_A](0)', 'P[~connection_info]($(connection_info))', 'P[~s3_AMPA_TC](0.5)', 'P[~RE_G_Ca](2.2)', 'P[~CXsyn_E_l](-67.0)', 'P[~GABA_A_R1](0)', 'P[~s3_scale](1.8)', 'P[~CXsyn_G_l](0.011)', 'P[~GABA_B_K2](0.0013)', 'P[~TCmatrix_DC](0)', 'P[~TCmatrix_Vtr](-40)', 'P[~CXsyn6_G_Km](0.02)', 'P[~FS1_S_CX_DEND](0.000165)', 'P[~INap_CX_Q10](2.7)', 'P[~TCmatrix_memory_E_GABA](-83)', 'P[~TCmatrix_G_Ca](2.2)', 'P[~TCmatrix_memory_GB_K4](0.034)', 'P[~GABA_A_C](0)', 'P[~INap_CX_f](0.02)', 'P[~INsynCore_SOMA_G_Na](2500)', 'P[~TCmatrix_G_K](12)', 'P[~CXsyn6_G_l](0.022)', 'P[~INa_CX_G_Na](3000)', 'P[~N_TC](12)', 'P[~RE_G_kl](0.012)', 'P[~FS1_beta_ii](0.5)', 'P[~GB_lastrelease](-10000000)', 'P[~TCmatrix_memory_GB_K1](0.5)', 'P[~IKv_CX_G_Kv](150)', 'P[~INsynCore_rho](50)', 'P[~FS1_beta_dc](0.1)', 'P[~TCmatrix_VtrK](-28)', 'P[~IKm_CX_G_Km](0.01)', 'P[~GABA_B_old_v](0)', 'P[~INsynCore_SOMA_G_Nap](0.0)', 'P[~N_TCa](12)', 'P[~MAX_SUBNET_POINTS](12500)', 'P[~FS1_gg](0.5)', 'P[~RS_HHH](0.02)', 'P[~RS_Tcr](-100)', 'P[~INap_CX_Cels](36)', 'P[~distance_3d]($(distance_3d))', 'P[~GABA_A_lastrelease](-100)', 'P[~GABA_A_R](0)', 'P[~gh_TC_awake](-8.0)', 'P[~N_RE](7)', 'P[~N_SOMA](4)', 'P[~GB_C](0)', 'P[~INap_CX_Tet](-42)', 'P[~INsynMatrix_SOMA_G_Na](2500)', 'P[~awake_AMPA_TC](0.5)', 'P[~INsynCore_G_l](0.009)', 'P[~RS_Idc](0)', 'P[~RS_sigma](0.02)', 'P[~subnet_3d]($(subnet_3d))', 'P[~gh_TC_rem](0.0)', 'P[~INsynMatrix_SOMA_G_Nap](0.0)', 'P[~FS1_sigma_dc](1.0)', 'P[~awake_GABA_TC](0.55)', 'P[~RS_alpha](3.65)', 'P[~GABA_B_K4](0.033)', 'P[~awake_GABA_TC_fix](0.55)', 'P[~RS_beta_dc](0.133)', 'P[~rem_scale](0.9)', 'P[~gh_TC_s2](-3.0)', 'P[~GABA_A_R0](0)', 'P[~TCcore_k4](0.001)', 'P[~GABA_B_Cdur](0.3)', 'P[~GABA_A_Alpha](10.5)', 'P[~gh_TC_s3](-2.0)', 'P[~gkl_TC_awake](0.79)', 'P[~RS_v_SOMA](-60)', 'P[~IKCa_CX_G_KCa](0.3)', 'P[~TCcore_pc](0.007)', 'P[~CXasyn_G_Km](0.02)', 'P[~INap_CX_Sig](5)', 'P[~GABA_B_K3](0.098)', 'P[~GABA_A_Beta](0.166)', 'P[~INsyn6_SOMA_G_Na](2500)', 'P[~RS_S_CX_DEND](0.000165)', 'P[~RS_beta_e](0.133)', 'P[~gk_cx_slow_awake](1.0)', 'P[~TAU](0.02)', 'P[~INsynMatrix_DEND_G_Nap](0.0)', 'P[~INsyn6_SOMA_G_Nap](0.0)']\n",
      "    parameters [required] (2): ['P[~overrides](test.yml)', 'P[~template](sleep_stage_transition)']\n",
      "    observables (1): ['O[~code](/287071185)']\n",
      "\n",
      "  ->[Engine] mustache\n",
      "    hyperparameters (0): set()\n",
      "\n",
      "query==[\n",
      "  \n",
      "]\n",
      "{}\n",
      "Releasing resource: LocalRuntime\n"
     ]
    }
   ],
   "source": [
    "with LocalRuntime(True) as r:\n",
    "    exp0.run_sync(r)\n",
    "    result = exp0.fetch(r, {sst.build.code})\n",
    "    print(result)"
   ]
  },
  {
   "cell_type": "code",
   "execution_count": null,
   "metadata": {},
   "outputs": [],
   "source": [
    "# @giri: create_model example\n",
    "# M = create_model(‘g++ -O2 generate_network.cpp -o generete _network’, params_file = ‘networks.cfg’\n",
    "# M.describe() - prints out the entire spec (params, default values)\n",
    "\n",
    "with LocalRuntime(True) as r:\n",
    "    exp0.run_sync(r)\n",
    "    result = exp0.fetch(r, {sst.build.code})\n",
    "    print(result)\n",
    "\n",
    "# exp0.run((\n",
    "#     parameter(sst.build., \"source.cpp\"),\n",
    "#     parameter(\"output\", \"source.o\"),\n",
    "#     parameter(\"flags\", \"-O2\"),\n",
    "# ), runtime=LocalRuntime())\n",
    "\n",
    "# exp1a = experiment(sst.network_create(), engines.cpp(), name=\"make_network\")\n",
    "# exp1b = experiment(sst.network_update(), engines.python(), name=\"update_network\")\n",
    "# exp2 = experiment(sst.simulate(), engines.cpp(), name=\"simulate_network\")\n",
    "\n",
    "# large_exp_A = exp0 >> exp1a >> exp2\n",
    "# large_exp_A.setup({\n",
    "#     template=\"sleep_stage_transition\"),\n",
    "#     overrides=\"test.yml\"\n",
    "# })\n",
    "# large_exp_A.run_sync(r)\n",
    "\n",
    "# large_exp_B = exp0 >> exp1a >> exp1b >> exp2\n",
    "# large_exp_B.describe()"
   ]
  },
  {
   "cell_type": "code",
   "execution_count": null,
   "metadata": {},
   "outputs": [],
   "source": [
    "import argparse\n",
    "\n",
    "def create_dynamic_class():\n",
    "\n",
    "    return type(\n",
    "        \"Test\",\n",
    "        (argparse.Namespace,),\n",
    "        {\n",
    "            \"foo\": \"default_foo\",\n",
    "            \"bar\": \"default_bar\",\n",
    "            \"__annotations__\": {\"foo\": str, \"bar\": str},  # Type hinting for Pylance\n",
    "        },\n",
    "    )\n",
    "\n",
    "\n",
    "# Create the dynamic class\n",
    "Test = argparse.Namespace\n",
    "x = Test(foo=3, bar=5)\n",
    "print(x.foo)\n",
    "print(x.bar)"
   ]
  },
  {
   "cell_type": "code",
   "execution_count": null,
   "metadata": {},
   "outputs": [],
   "source": [
    "for i in range(0, 100):\n",
    "    # large_experiment = (exp0 >> exp1 >> exp2)\n",
    "    large_exp_A.params.build.awake_GABA_TC_fix = i\n",
    "    sst.build.awake_GABA_TC_fix = i\n",
    "    large_experiment.run()\n",
    "\n",
    "wait_for_completion()\n",
    "\n",
    "# large_experiment = (preprocess >> exp1 >> exp2)\n",
    "large_experiment.describe()"
   ]
  },
  {
   "cell_type": "markdown",
   "metadata": {},
   "source": [
    "## Defining a New Experiment from Scratch"
   ]
  },
  {
   "cell_type": "markdown",
   "metadata": {},
   "source": [
    "Here, you can define an experiment outside of the completions database, by specifying the following,\n",
    "(a) the command which to run\n",
    "(b) the engines needed for the command to run\n",
    "(c) the parameters needed for the command to run"
   ]
  },
  {
   "cell_type": "markdown",
   "metadata": {},
   "source": [
    "## Running the Experiment"
   ]
  },
  {
   "cell_type": "markdown",
   "metadata": {},
   "source": [
    "First, let's define the runtime for this experiment. For this example, we will use the local runtime (i.e., the machine this notebook will be executed on)."
   ]
  },
  {
   "cell_type": "code",
   "execution_count": null,
   "metadata": {},
   "outputs": [],
   "source": [
    "# run experiment\n",
    "with LocalRuntime(reuse_past_runs=True) as r:\n",
    "    ref = run(\n",
    "        large_experiment,\n",
    "        [\n",
    "            parameter(connection_info, \"samples/sleep_stage_transition/connection_info\"),\n",
    "            parameter(current_params, \"samples/sleep_stage_transition/params.txt\"),\n",
    "        ],\n",
    "        runtime=r,\n",
    "    )\n",
    "    # fetch an output from experiment execution\n",
    "    [obs] = fetch(*ref, runtime=r, observables=[INsynCore_DEND_G_Nap, awake_GABA_TC])\n",
    "\n",
    "    obs[connection_info].save(\"data/connection_info\")"
   ]
  },
  {
   "cell_type": "markdown",
   "metadata": {},
   "source": [
    "### Running a Secondary Experiment\n",
    "\n",
    "Here, we will use the outputs from the previous experiment run to define and run a second experiment."
   ]
  },
  {
   "cell_type": "code",
   "execution_count": null,
   "metadata": {},
   "outputs": [],
   "source": [
    "with LocalRuntime(reuse_past_runs=True) as r:\n",
    "    # prepare a new experiment with the fetched output as a parameter\n",
    "    ref = run(\n",
    "        experiment(sst.network_update(), engines.python(), name=\"update_network\"),\n",
    "        [\n",
    "            parameter(connection_info, \"data/connection_info\"),\n",
    "            parameter(network_config, \"data/network.cfg\"),\n",
    "        ],\n",
    "        runtime=r,\n",
    "    )\n",
    "    # fetch an output from experiment execution\n",
    "    [obs] = fetch(*ref, runtime=r, observables=[connection_info])\n",
    "    obs[connection_info].save(\"data/connection_info_updated\")"
   ]
  },
  {
   "cell_type": "code",
   "execution_count": null,
   "metadata": {},
   "outputs": [],
   "source": [
    "# run a grid search on s2, using output from s1\n",
    "s1 = experiment(models.neuro_create_network(), engines.neuro_sleep_stage(), name=\"make_network\")\n",
    "s1.describe()\n",
    "\n",
    "s1.run()\n",
    "\n",
    "s2 = experiment(models.sample_make_apples(), engines.neuro_sleep_stage(), name=\"simulate_network\")\n",
    "\n",
    "s1 = ['x', 'y'] -> ['neuro_connection_info']\n",
    "s2 = ['neuro_connection_info', 'a'] -> ['d']\n",
    "\n",
    "s1b = experiment(models.modify_network(), engines.neuro_sleep_stage(), name=\"modify_network\")\n",
    "s = (s1 >> s1b)\n",
    "\n",
    "# 'a' = \"val_a\"\n",
    "# 'b' = \"val_b\"\n",
    "# s2 = ['a', 'b', 'neuro_connection_info'] -> ['d']\n",
    "\n",
    "# as a requirement, s2 should take in a 'neuro_connection_info' as an input\n",
    "\n",
    "s1 >> s2 >> s3\n",
    "\n",
    "['z', 'd']\n",
    "\n",
    "exp = (s1 >> s2)\n",
    "\n",
    "# args\n",
    "args = (\n",
    "    parameter(neuro_network_config, \"samples/sleep_stage_transition/network.cfg\"),\n",
    "    parameter(neuro_connection_info, \"samples/sleep_stage_transition/connection_info\"),\n",
    "    hyperparameter(neuro_current_params, \"samples/sleep_stage_transition/params.txt\"),\n",
    ")"
   ]
  },
  {
   "cell_type": "code",
   "execution_count": null,
   "metadata": {},
   "outputs": [],
   "source": [
    "%run_remote\n",
    "\n",
    "output = ex1 > ex2 > ex3"
   ]
  },
  {
   "cell_type": "code",
   "execution_count": null,
   "metadata": {},
   "outputs": [],
   "source": [
    "%run_local\n",
    "\n",
    "output > ex4"
   ]
  },
  {
   "cell_type": "code",
   "execution_count": null,
   "metadata": {},
   "outputs": [],
   "source": [
    "range_P = [\n",
    "    P.Range(models.stim_current.neuro_connection_info, 0.1, 1.0, 10),\n",
    "    P.Range(models.stim_current.neuro_current_params, 0.1, 1.0, 10),\n",
    "]\n",
    "range_H = [\n",
    "    H.Range(engines.bazhenov_labs_engine.neuro_current_params, 0.1, 1.0, 10),\n",
    "]"
   ]
  },
  {
   "cell_type": "code",
   "execution_count": null,
   "metadata": {},
   "outputs": [],
   "source": [
    "sweep1 = Experiment.Sweep(\"bazhenov_network_grid_search\", (seq1,), range_P, range_H, []) # change syntax\n",
    "sweep1.run(runtime)\n",
    "exChain_obs = sweep1.fetch(runtime)"
   ]
  },
  {
   "cell_type": "code",
   "execution_count": null,
   "metadata": {},
   "outputs": [],
   "source": [
    "# run sweep\n",
    "for p in range_P:\n",
    "    for h in range_H:\n",
    "        "
   ]
  },
  {
   "cell_type": "code",
   "execution_count": null,
   "metadata": {},
   "outputs": [],
   "source": [
    "ex12 = Collection(\n",
    "    name=\"simulate_bhazenov_network\",\n",
    "    models=[models.make_network, models.stim_current],\n",
    "    engine=engines.bazhenov_labs_engine,\n",
    "    parameters=[\n",
    "        models.make_network.neuro_network_config(\"samples/sleep_stage_transition/params.txt\"),\n",
    "        models.stim_current.neuro_current_params(\"samples/sleep_stage_transition/connection_info\")\n",
    "    ],\n",
    "    parameters={\n",
    "        \"neuro_network_config\": P(\"samples/sleep_stage_transition/network.cfg\"),\n",
    "        \"neuro_current_params\": P(\"samples/sleep_stage_transition/params.txt\"),\n",
    "    },\n",
    "    hyperparameters={\n",
    "        \"neuro_current_params\": H(\"samples/sleep_stage_transition/params.txt\"),\n",
    "    },\n",
    "    observables={\n",
    "        \"neuro_time_cx6\": O(\"observables/time_cx6\")\n",
    "    },\n",
    ")\n",
    "\n",
    "runtime = Runtime()\n",
    "ex2.execute(runtime)\n",
    "ex2_obs = ex2.gather_observables(runtime)\n",
    "\n",
    "## POC - double pendulum simulation\n",
    "## Real - replicate simone's experiments\n",
    "\n",
    "\n",
    "# the intersecting observables are piped into the params of the next experiment\n",
    "# only the intersecting observables are shown in autocompletion\n",
    "\n",
    "experiment_2 = create_new_experiment_from(experiment_1)\n",
    "experiment_2.name = \"<>\"\n",
    "experiment_2.parameters[\"neuro/network_config\"] = \"new-value\"\n",
    "experiment.check_existing()\n",
    "\n",
    "experiment.observables\n",
    "\n",
    "experiemnt.validate()\n",
    "experiment.run(\n",
    "hpc_recipe={}\n",
    ")\n",
    "\n",
    "# !!! [collection] - a set of experiments with common observables\n",
    "\n",
    "# observables may be a huge list, so need not provide everytime when its\n",
    "\n",
    "implictly discoverable\n",
    "\n",
    "# to get experiments run with different observables\n",
    "\n",
    "collection = create_collection(\n",
    "model=\"name_of_model\",\n",
    "parameters={\n",
    "\"neuro/network_config\": [],\n",
    "},\n",
    ")\n",
    "\n",
    "# the collection experiments are pulled from the db\n",
    "\n",
    "collection = create_collection(\n",
    "model=[\"model1\", \"model2\", ...],\n",
    "parameters={\n",
    "\"neuro/network_config\": [],\n",
    "},\n",
    "observables={\n",
    "\"neuro/network_config\": [],\n",
    "},\n",
    ") -> [list of experiments]\n",
    "\n",
    "# all experiments sharing the same observables\n",
    "\n",
    "collection = create_collection(\n",
    "observables={\n",
    "\"neuro/network_config\": [],\n",
    "},\n",
    ") -> [list of experiments]\n",
    "\n",
    "collection = [experiment_1, experiment_2]\n",
    "\n",
    "# experiment collection\n",
    "\n",
    "# example of experiment chaining (top-to-bottom mro)\n",
    "\n",
    "# example 1\n",
    "\n",
    "experiment = Experiment(\n",
    "experiment_1,\n",
    "experiment_2,\n",
    ")\n",
    "\n",
    "# example 2\n",
    "\n",
    "experiment = Experiment(\n",
    "[experiment_2, experiment_3, .....], #\n",
    "experiment_1, #\n",
    ")\n",
    "\n",
    "#\n",
    "\n",
    "[\n",
    "exp2 -> exp1,\n",
    "exp3 -> exp1,\n",
    "]\n",
    "\n",
    "# example 3\n",
    "\n",
    "experiment = Experiment(\n",
    "[experiment_2, ...collection.experiments],\n",
    "experiment_1,\n",
    ")"
   ]
  },
  {
   "cell_type": "code",
   "execution_count": null,
   "metadata": {},
   "outputs": [],
   "source": [
    "# analysis part =========================\n",
    "\n",
    "# takes a collection as input,\n",
    "\n",
    "# and runs some function over the observables on that\n",
    "\n",
    "# collection\n",
    "\n",
    "# a primitive form of experiment using a collection of experiments as input\n",
    "\n",
    "analysis = Analysis(\n",
    "collection=[],\n",
    "function={\n",
    "\n",
    "    }\n",
    "\n",
    ")\n",
    "\n",
    "analysis = experiment"
   ]
  }
 ],
 "metadata": {
  "kernelspec": {
   "display_name": "Python 3",
   "language": "python",
   "name": "python3"
  },
  "language_info": {
   "codemirror_mode": {
    "name": "ipython",
    "version": 3
   },
   "file_extension": ".py",
   "mimetype": "text/x-python",
   "name": "python",
   "nbconvert_exporter": "python",
   "pygments_lexer": "ipython3",
   "version": "3.12.7"
  }
 },
 "nbformat": 4,
 "nbformat_minor": 4
}
