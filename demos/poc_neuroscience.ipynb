{
 "cells": [
  {
   "cell_type": "markdown",
   "metadata": {},
   "source": [
    "# Cybercomp Example - Neuroscience\n",
    "\n",
    "Here, multiplicity (e.g., Grid Search) should be explicitly defined"
   ]
  },
  {
   "cell_type": "markdown",
   "metadata": {},
   "source": [
    "## Set Up Code Completions"
   ]
  },
  {
   "cell_type": "code",
   "execution_count": null,
   "metadata": {
    "scrolled": true
   },
   "outputs": [
    {
     "name": "stdout",
     "output_type": "stream",
     "text": [
      "Connected to cybercomp server on http://127.0.0.1:8765\n"
     ]
    },
    {
     "name": "stderr",
     "output_type": "stream",
     "text": [
      "[Types] : 100%|██████████| 242/242 [00:00<00:00, 3221.11it/s, world]     \n",
      "[Models] : 100%|██████████| 10/10 [00:00<00:00, 3293.78it/s, tunnel_effect/train_model] \n",
      "[Engines] : 100%|██████████| 4/4 [00:00<00:00, 4895.60it/s, python]\n",
      "[Sources] : 100%|██████████| 3/3 [00:00<00:00, 1227.48it/s, tunnel_effect]"
     ]
    },
    {
     "name": "stdout",
     "output_type": "stream",
     "text": [
      "Completions generated at: /Users/yasith/projects/cybercomp/demos/completions\n"
     ]
    },
    {
     "name": "stderr",
     "output_type": "stream",
     "text": [
      "\n"
     ]
    }
   ],
   "source": [
    "from pathlib import Path\n",
    "from cybercomp import API\n",
    "\n",
    "# generate statically typed objects to define experiments\n",
    "api = API(server_url=\"http://127.0.0.1:8765\", base_path=Path(\"./completions\"))\n",
    "api.sync()"
   ]
  },
  {
   "cell_type": "markdown",
   "metadata": {},
   "source": [
    "## Import Cybercomp APIs"
   ]
  },
  {
   "cell_type": "code",
   "execution_count": 2,
   "metadata": {},
   "outputs": [],
   "source": [
    "from cybercomp.functional import experiment, hyperparameter, parameter\n",
    "from cybercomp.functional import fetch\n",
    "from cybercomp.runtimes import LocalRuntime\n",
    "\n",
    "from completions import engines, models\n",
    "from completions.types import *"
   ]
  },
  {
   "cell_type": "markdown",
   "metadata": {},
   "source": [
    "## Exploring Available Models"
   ]
  },
  {
   "cell_type": "code",
   "execution_count": 3,
   "metadata": {},
   "outputs": [
    {
     "name": "stdout",
     "output_type": "stream",
     "text": [
      "* [Model] build\n",
      "  - params?: 191 ['P[~rem_scale](0.9)', 'P[~FS1_alpha](3.8)', 'P[~IA_TC_G_A](1)', 'P[~RS_v_DEND](-60)', 'P[~RS_sigma_dc](1.0)', 'P[~awake_GABAd2](0.22)', 'P[~Ih_TC_cac](0.0015)', 'P[~awake_AMPAd2_fix](0.2)', 'P[~RS_sigma_e](1.0)', 'P[~gk_cx_slow_rem](1.0)', 'P[~RS_spike](0)', 'P[~TCcore_memory_GB_K2](0.0012)', 'P[~I_HH](1)', 'P[~INsynCore_DEND_G_Nap](0.0)', 'P[~INsynMatrix_DEND_G_Nap](0.0)', 'P[~FS1_sigma_ii](0.5)', 'P[~Ih_TC_pc](0.01)', 'P[~gk_cx_slow_s2](1.0)', 'P[~TCcore_E_l](-70)', 'P[~Ih_TC_ginc](1.5)', 'P[~GABA_B_K1](0.52)', 'P[~TCcore_memory_GB_K3](0.1)', 'P[~GB_C](0)', 'P[~awake_AMPAd2](0.2)', 'P[~FS1_ii](0)', 'P[~awake_GABAd2_fix](0.22)', 'P[~INap_CX_Sig](5)', 'P[~TCcore_D](2)', 'P[~CXsyn6_E_l](-68)', 'P[~GABA_A_R1](0)', 'P[~gk_cx_slow_s3](1.0)', 'P[~RS_beta_e](0.133)', 'P[~gkl_TC_awake_fix](0.79)', 'P[~GABA_B_Cdur](0.3)', 'P[~INap_CX_Q10](2.7)', 'P[~TCmatrix_VtrK](-28)', 'P[~GABA_A_Beta](0.166)', 'P[~INsynCore_G_Km](0.02)', 'P[~INaK_VtrK](-50)', 'P[~TAU_Map](0.5)', 'P[~MAX_SUBNET_POINTS](12500)', 'P[~TCmatrix_k4](0.001)', 'P[~gk_cx_spike_awake](1.0)', 'P[~CXsyn6_G_kl](0.01)', 'P[~TCcore_memory_E_GABA](-83)', 'P[~FS1_v_SOMA](-60)', 'P[~IHVA_CX_G_HVA](0.03)', 'P[~FS1_beta_e](0.05)', 'P[~INsynCore_G_Kl](0.009)', 'P[~INsynMatrix_SOMA_G_Nap](0.0)', 'P[~TCcore_G_h](0.016)', 'P[~TCcore_DC](0)', 'P[~GABA_B_K2](0.0013)', 'P[~TCmatrix_pc](0.007)', 'P[~GABA_B_K3](0.098)', 'P[~TAUr](25)', 'P[~TCcore_G_A](0)', 'P[~IT_RE_Qh](3)', 'P[~RS_mu](0.0005)', 'P[~TCcore_VtrK](-28)', 'P[~TCmatrix_memory_GB_K2](0.0012)', 'P[~INsynCore_rho](50)', 'P[~CXasyn_G_kl](0.01)', 'P[~IT_RE_Qm](5)', 'P[~INap_CX_f](0.02)', 'P[~TCcore_G_kl](0.024)', 'P[~TCcore_G_K](12)', 'P[~CXsyn_E_l](-67.0)', 'P[~INsyn6_DEND_G_Nap](0.0)', 'P[~TCcore_Vtr](-40)', 'P[~INsynMatrix_rho](50)', 'P[~GABA_B_C](0)', 'P[~IKm_CX_G_Km](0.01)', 'P[~gk_cx_spike_s2](1.0)', 'P[~TCcore_G_Ca](2.5)', 'P[~gk_cx_slow_awake](1.0)', 'P[~GB_lastrelease](-10000000)', 'P[~FS1_sigma](-0.0175)', 'P[~FS1_sigma_e](0.5)', 'P[~gkl_RE_awake](0.9)', 'P[~CXsyn6_G_Km](0.02)', 'P[~FS1_Idc](-0.0)', 'P[~CXasyn_G_Km](0.02)', 'P[~TCmatrix_E_l](-70)', 'P[~gkl_RE_awake_fix](0.9)', 'P[~CXsyn6_G_l](0.022)', 'P[~TCcore_memory_GB_K1](0.5)', 'P[~stim_config]($(stim_config))', 'P[~INaK_Vtr](-50)', 'P[~TCcore_ginc](2.0)', 'P[~INsynCore_SOMA_G_Nap](0.0)', 'P[~TCmatrix_memory_GB_K3](0.1)', 'P[~gkl_awake_fix](0.19)', 'P[~TCmatrix_D](2)', 'P[~TCmatrix_G_h](0.015)', 'P[~s2_scale](1.2)', 'P[~rem_AMPA_TC](0.5)', 'P[~distance_3d]($(distance_3d))', 'P[~INaK_G_K](10)', 'P[~FS1_v_DEND](-60)', 'P[~s3_AMPA_TC](0.5)', 'P[~GABA_B_old_v](0)', 'P[~s2_AMPA_TC](0.5)', 'P[~network_mri]($(network_mri))', 'P[~CXasyn_E_l](-68)', 'P[~N_SOMA](4)', 'P[~CXasyn_G_l](0.022)', 'P[~TCmatrix_G_A](0)', 'P[~GABA_A_C](0)', 'P[~N_DEND_1](9)', 'P[~gkl_awake](0.19)', 'P[~INsyn6_SOMA_G_Nap](0.0)', 'P[~INap_CX_Tet](-42)', 'P[~FS1_S_CX_DEND](0.000165)', 'P[~s3_scale](1.8)', 'P[~INsynMatrix_SOMA_G_Na](2500)', 'P[~FS1_spike](0)', 'P[~GABA_B_lastrelease](-10000000)', 'P[~TCmatrix_Vtr](-40)', 'P[~FS1_sigma_dc](1.0)', 'P[~TCcore_memory_GB_K4](0.034)', 'P[~TCmatrix_DC](0)', 'P[~TCmatrix_memory_GB_K4](0.034)', 'P[~TCmatrix_memory_E_GABA](-83)', 'P[~GABA_A_R0](0)', 'P[~INsyn6_rho](50)', 'P[~TCmatrix_G_Ca](2.2)', 'P[~INsynCore_G_l](0.009)', 'P[~CXsyn_G_kl](0.011)', 'P[~FS1_beta_ii](0.5)', 'P[~N_RE](7)', 'P[~RE_E_l](-77)', 'P[~GABA_B_K4](0.033)', 'P[~TCmatrix_G_K](12)', 'P[~INsynCore_E_l](-75)', 'P[~N_GB](2)', 'P[~RE_G_kl](0.012)', 'P[~IKCa_CX_G_KCa](0.3)', 'P[~N_TC](12)', 'P[~TCmatrix_memory_GB_K1](0.5)', 'P[~FS1_gg](0.5)', 'P[~N_TCa](12)', 'P[~INsyn6_SOMA_G_Na](2500)', 'P[~RS_HHH](0.02)', 'P[~RS_Tcr](-100)', 'P[~GABA_A_Alpha](10.5)', 'P[~INap_CX_G_Nap](2)', 'P[~gh_TC_awake](-8.0)', 'P[~CXsyn_G_Km](0.02)', 'P[~out_dir](out)', 'P[~GABA_B_g0](0)', 'P[~gk_cx_spike_s3](1.0)', 'P[~GABA_A_E_GABA](-70)', 'P[~connection_info]($(connection_info))', 'P[~network_config]($(network_config))', 'P[~FS1_mu](0.002)', 'P[~RE_G_Ca](2.2)', 'P[~FS1_beta_dc](0.1)', 'P[~INa_CX_G_Na](3000)', 'P[~INsynCore_SOMA_G_Na](2500)', 'P[~awake_AMPA_TC](0.5)', 'P[~IKv_CX_G_Kv](150)', 'P[~RS_Idc](0)', 'P[~RS_sigma](0.02)', 'P[~gh_TC_rem](0.0)', 'P[~awake_GABA_TC](0.55)', 'P[~Ih_TC_k3](0.001)', 'P[~RS_alpha](3.65)', 'P[~INaK_G_Na](100)', 'P[~TCmatrix_G_kl](0.025)', 'P[~RS_beta_dc](0.133)', 'P[~awake_GABA_TC_fix](0.55)', 'P[~gh_TC_s2](-3.0)', 'P[~GABA_A_old_v](0)', 'P[~IT_RE_G_Ca](1.75)', 'P[~TCcore_k4](0.001)', 'P[~CXsyn_G_l](0.011)', 'P[~gh_TC_s3](-2.0)', 'P[~RS_v_SOMA](-60)', 'P[~TCmatrix_ginc](2)', 'P[~subnet_3d]($(subnet_3d))', 'P[~Ih_TC_G_h](0.02)', 'P[~TCcore_pc](0.007)', 'P[~GABA_A_lastrelease](-100)', 'P[~GABA_B_r0](0)', 'P[~gkl_TC_awake](0.79)', 'P[~GABA_A_R](0)', 'P[~FS1_Tcr](-100)', 'P[~INap_CX_Cels](36)', 'P[~RS_S_CX_DEND](0.000165)', 'P[~TAU](0.02)']\n",
      "  - params!: 2 ['P[~overrides](not set)', 'P[~template](not set)']\n",
      "  - observ : 1 ['O[~code](not set)']\n",
      "* [Model] network_create\n",
      "  - params?: 3 ['P[~subnet_3d]()', 'P[~distance_3d]()', 'P[~network_mri]()']\n",
      "  - params!: 2 ['P[~network_config](not set)', 'P[~code](not set)']\n",
      "  - observ : 1 ['O[~connection_info](not set)']\n",
      "* [Model] network_update\n",
      "  - params?: 0 []\n",
      "  - params!: 2 ['P[~network_config](not set)', 'P[~code](not set)']\n",
      "  - observ : 1 ['O[~connection_info](not set)']\n",
      "* [Model] simulate\n",
      "  - params?: 0 []\n",
      "  - params!: 3 ['P[~current_params](not set)', 'P[~connection_info](not set)', 'P[~code](not set)']\n",
      "  - observ : 32 ['O[~field_file_1](not set)', 'O[~graf_tc](not set)', 'O[~graf_cxa](not set)', 'O[~time_tca](not set)', 'O[~field_file_2](not set)', 'O[~graf_cx6](not set)', 'O[~time_tc](not set)', 'O[~graf_in](not set)', 'O[~graf_ina](not set)', 'O[~time_G_AMPA0_CX_CXa](not set)', 'O[~graf_cx](not set)', 'O[~time_G_AMPA0_CX_CX](not set)', 'O[~field_file_0](not set)', 'O[~field_file_4](not set)', 'O[~graf_tca](not set)', 'O[~time_cx](not set)', 'O[~graf_in6](not set)', 'O[~time_G_AMPA0_CXa_CXa](not set)', 'O[~time_G_AMPA0_CXa_CX](not set)', 'O[~graf_re](not set)', 'O[~field_file_5](not set)', 'O[~time_in](not set)', 'O[~time_cxa](not set)', 'O[~time_cx6](not set)', 'O[~field_file_3](not set)', 'O[~dat](not set)', 'O[~field_file_6](not set)', 'O[~time_re](not set)', 'O[~time_ina](not set)', 'O[~time_in6](not set)', 'O[~cx_cx_g_ampa0](not set)', 'O[~field_file_7](not set)']\n"
     ]
    }
   ],
   "source": [
    "import completions.models.sleep_stage_transition as sst\n",
    "\n",
    "sst.build.describe()\n",
    "sst.network_create.describe()\n",
    "sst.network_update.describe()\n",
    "sst.simulate.describe()\n",
    "display()"
   ]
  },
  {
   "cell_type": "markdown",
   "metadata": {},
   "source": [
    "## Defining a Multi-Step Experiment"
   ]
  },
  {
   "cell_type": "markdown",
   "metadata": {},
   "source": [
    "Here, you can define individual experiments (i.e., steps) and chain them into larger experiments, if need be.\n",
    "Internally, Cybercomp will connect the outputs from previous experiments into subsequent experiments that depend on them.\n",
    "Users only need to provide the non-inferrable parameters / hyperparameters."
   ]
  },
  {
   "cell_type": "code",
   "execution_count": null,
   "metadata": {},
   "outputs": [
    {
     "name": "stdout",
     "output_type": "stream",
     "text": [
      "* [Setup] Experiment=make_source\n",
      "  * [Setup] Step=make_source\n",
      "    * [Model] build\n",
      "      - params?: 191 ['P[~rem_scale](0.9)', 'P[~FS1_alpha](3.8)', 'P[~IA_TC_G_A](1)', 'P[~RS_v_DEND](-60)', 'P[~RS_sigma_dc](1.0)', 'P[~awake_GABAd2](0.22)', 'P[~Ih_TC_cac](0.0015)', 'P[~awake_AMPAd2_fix](0.2)', 'P[~RS_sigma_e](1.0)', 'P[~gk_cx_slow_rem](1.0)', 'P[~RS_spike](0)', 'P[~TCcore_memory_GB_K2](0.0012)', 'P[~I_HH](1)', 'P[~INsynCore_DEND_G_Nap](0.0)', 'P[~INsynMatrix_DEND_G_Nap](0.0)', 'P[~FS1_sigma_ii](0.5)', 'P[~Ih_TC_pc](0.01)', 'P[~gk_cx_slow_s2](1.0)', 'P[~TCcore_E_l](-70)', 'P[~Ih_TC_ginc](1.5)', 'P[~GABA_B_K1](0.52)', 'P[~TCcore_memory_GB_K3](0.1)', 'P[~GB_C](0)', 'P[~awake_AMPAd2](0.2)', 'P[~FS1_ii](0)', 'P[~awake_GABAd2_fix](0.22)', 'P[~INap_CX_Sig](5)', 'P[~TCcore_D](2)', 'P[~CXsyn6_E_l](-68)', 'P[~GABA_A_R1](0)', 'P[~gk_cx_slow_s3](1.0)', 'P[~RS_beta_e](0.133)', 'P[~gkl_TC_awake_fix](0.79)', 'P[~GABA_B_Cdur](0.3)', 'P[~INap_CX_Q10](2.7)', 'P[~TCmatrix_VtrK](-28)', 'P[~GABA_A_Beta](0.166)', 'P[~INsynCore_G_Km](0.02)', 'P[~INaK_VtrK](-50)', 'P[~TAU_Map](0.5)', 'P[~MAX_SUBNET_POINTS](12500)', 'P[~TCmatrix_k4](0.001)', 'P[~gk_cx_spike_awake](1.0)', 'P[~CXsyn6_G_kl](0.01)', 'P[~TCcore_memory_E_GABA](-83)', 'P[~FS1_v_SOMA](-60)', 'P[~IHVA_CX_G_HVA](0.03)', 'P[~FS1_beta_e](0.05)', 'P[~INsynCore_G_Kl](0.009)', 'P[~INsynMatrix_SOMA_G_Nap](0.0)', 'P[~TCcore_G_h](0.016)', 'P[~TCcore_DC](0)', 'P[~GABA_B_K2](0.0013)', 'P[~TCmatrix_pc](0.007)', 'P[~GABA_B_K3](0.098)', 'P[~TAUr](25)', 'P[~TCcore_G_A](0)', 'P[~IT_RE_Qh](3)', 'P[~RS_mu](0.0005)', 'P[~TCcore_VtrK](-28)', 'P[~TCmatrix_memory_GB_K2](0.0012)', 'P[~INsynCore_rho](50)', 'P[~CXasyn_G_kl](0.01)', 'P[~IT_RE_Qm](5)', 'P[~INap_CX_f](0.02)', 'P[~TCcore_G_kl](0.024)', 'P[~TCcore_G_K](12)', 'P[~CXsyn_E_l](-67.0)', 'P[~INsyn6_DEND_G_Nap](0.0)', 'P[~TCcore_Vtr](-40)', 'P[~INsynMatrix_rho](50)', 'P[~GABA_B_C](0)', 'P[~IKm_CX_G_Km](0.01)', 'P[~gk_cx_spike_s2](1.0)', 'P[~TCcore_G_Ca](2.5)', 'P[~gk_cx_slow_awake](1.0)', 'P[~GB_lastrelease](-10000000)', 'P[~FS1_sigma](-0.0175)', 'P[~FS1_sigma_e](0.5)', 'P[~gkl_RE_awake](0.9)', 'P[~CXsyn6_G_Km](0.02)', 'P[~FS1_Idc](-0.0)', 'P[~CXasyn_G_Km](0.02)', 'P[~TCmatrix_E_l](-70)', 'P[~gkl_RE_awake_fix](0.9)', 'P[~CXsyn6_G_l](0.022)', 'P[~TCcore_memory_GB_K1](0.5)', 'P[~stim_config]($(stim_config))', 'P[~INaK_Vtr](-50)', 'P[~TCcore_ginc](2.0)', 'P[~INsynCore_SOMA_G_Nap](0.0)', 'P[~TCmatrix_memory_GB_K3](0.1)', 'P[~gkl_awake_fix](0.19)', 'P[~TCmatrix_D](2)', 'P[~TCmatrix_G_h](0.015)', 'P[~s2_scale](1.2)', 'P[~rem_AMPA_TC](0.5)', 'P[~distance_3d]($(distance_3d))', 'P[~INaK_G_K](10)', 'P[~FS1_v_DEND](-60)', 'P[~s3_AMPA_TC](0.5)', 'P[~GABA_B_old_v](0)', 'P[~s2_AMPA_TC](0.5)', 'P[~network_mri]($(network_mri))', 'P[~CXasyn_E_l](-68)', 'P[~N_SOMA](4)', 'P[~CXasyn_G_l](0.022)', 'P[~TCmatrix_G_A](0)', 'P[~GABA_A_C](0)', 'P[~N_DEND_1](9)', 'P[~gkl_awake](0.19)', 'P[~INsyn6_SOMA_G_Nap](0.0)', 'P[~INap_CX_Tet](-42)', 'P[~FS1_S_CX_DEND](0.000165)', 'P[~s3_scale](1.8)', 'P[~INsynMatrix_SOMA_G_Na](2500)', 'P[~FS1_spike](0)', 'P[~GABA_B_lastrelease](-10000000)', 'P[~TCmatrix_Vtr](-40)', 'P[~FS1_sigma_dc](1.0)', 'P[~TCcore_memory_GB_K4](0.034)', 'P[~TCmatrix_DC](0)', 'P[~TCmatrix_memory_GB_K4](0.034)', 'P[~TCmatrix_memory_E_GABA](-83)', 'P[~GABA_A_R0](0)', 'P[~INsyn6_rho](50)', 'P[~TCmatrix_G_Ca](2.2)', 'P[~INsynCore_G_l](0.009)', 'P[~CXsyn_G_kl](0.011)', 'P[~FS1_beta_ii](0.5)', 'P[~N_RE](7)', 'P[~RE_E_l](-77)', 'P[~GABA_B_K4](0.033)', 'P[~TCmatrix_G_K](12)', 'P[~INsynCore_E_l](-75)', 'P[~N_GB](2)', 'P[~RE_G_kl](0.012)', 'P[~IKCa_CX_G_KCa](0.3)', 'P[~N_TC](12)', 'P[~TCmatrix_memory_GB_K1](0.5)', 'P[~FS1_gg](0.5)', 'P[~N_TCa](12)', 'P[~INsyn6_SOMA_G_Na](2500)', 'P[~RS_HHH](0.02)', 'P[~RS_Tcr](-100)', 'P[~GABA_A_Alpha](10.5)', 'P[~INap_CX_G_Nap](2)', 'P[~gh_TC_awake](-8.0)', 'P[~CXsyn_G_Km](0.02)', 'P[~out_dir](out)', 'P[~GABA_B_g0](0)', 'P[~gk_cx_spike_s3](1.0)', 'P[~GABA_A_E_GABA](-70)', 'P[~connection_info]($(connection_info))', 'P[~network_config]($(network_config))', 'P[~FS1_mu](0.002)', 'P[~RE_G_Ca](2.2)', 'P[~FS1_beta_dc](0.1)', 'P[~INa_CX_G_Na](3000)', 'P[~INsynCore_SOMA_G_Na](2500)', 'P[~awake_AMPA_TC](0.5)', 'P[~IKv_CX_G_Kv](150)', 'P[~RS_Idc](0)', 'P[~RS_sigma](0.02)', 'P[~gh_TC_rem](0.0)', 'P[~awake_GABA_TC](0.55)', 'P[~Ih_TC_k3](0.001)', 'P[~RS_alpha](3.65)', 'P[~INaK_G_Na](100)', 'P[~TCmatrix_G_kl](0.025)', 'P[~RS_beta_dc](0.133)', 'P[~awake_GABA_TC_fix](0.55)', 'P[~gh_TC_s2](-3.0)', 'P[~GABA_A_old_v](0)', 'P[~IT_RE_G_Ca](1.75)', 'P[~TCcore_k4](0.001)', 'P[~CXsyn_G_l](0.011)', 'P[~gh_TC_s3](-2.0)', 'P[~RS_v_SOMA](-60)', 'P[~TCmatrix_ginc](2)', 'P[~subnet_3d]($(subnet_3d))', 'P[~Ih_TC_G_h](0.02)', 'P[~TCcore_pc](0.007)', 'P[~GABA_A_lastrelease](-100)', 'P[~GABA_B_r0](0)', 'P[~gkl_TC_awake](0.79)', 'P[~GABA_A_R](0)', 'P[~FS1_Tcr](-100)', 'P[~INap_CX_Cels](36)', 'P[~RS_S_CX_DEND](0.000165)', 'P[~TAU](0.02)']\n",
      "      - params!: 2 ['P[~overrides](test.yml)', 'P[~template](sleep_stage_transition)']\n",
      "      - observ : 1 ['O[~code](./289236951)']\n",
      "    * [Engine] mustache\n",
      "      - hparams: 0 > set()\n",
      "\n",
      "---- Acquiring resource: LocalRuntime ----\n",
      "* [RunSync] Experiment=make_source\n",
      "  * [Run] Experiment=make_source\n",
      "    * [Run] Step=make_source\n",
      "    * [Run] Runtime=LocalRuntime\n",
      "        - model : build\n",
      "        - engine: mustache\n",
      "        - cmd   : python -m sub -s sleep_stage_transition -p test.yml -t ./289236951\n",
      "* [Poll] Experiment=make_source\n",
      "  * [Poll] Step=make_source\n",
      "  * [Poll] Runtime=LocalRuntime\n",
      "    - model : build\n",
      "    - engine: mustache\n",
      "* [Fetch] Experiment=make_source\n",
      "  * [Fetch] Step=make_source\n",
      "  * [Fetch] Runtime=LocalRuntime\n",
      "    - model : build\n",
      "    - engine: mustache\n",
      "    - query : []\n",
      "    - result: []\n",
      "---- Releasing resource: LocalRuntime ----\n",
      "\n",
      "* [Results] []\n"
     ]
    }
   ],
   "source": [
    "exp0 = experiment(sst.build(), engines.mustache(), name=\"make_source\")\n",
    "exp0.setup(\n",
    "    {\n",
    "        sst.build.template(\"sleep_stage_transition\"),\n",
    "        sst.build.overrides(\"test.yml\"),\n",
    "    }\n",
    ")\n",
    "exp0.describe()\n",
    "\n",
    "with LocalRuntime(True) as r:\n",
    "    exp0.run_sync(r)\n",
    "    result = exp0.fetch(r, {sst.build.code})\n",
    "print(\"* [Results]\", list(map(str, result)))"
   ]
  },
  {
   "cell_type": "code",
   "execution_count": null,
   "metadata": {},
   "outputs": [],
   "source": [
    "# @giri: create_model example\n",
    "# M = create_model(‘g++ -O2 generate_network.cpp -o generete _network’, params_file = ‘networks.cfg’\n",
    "# M.describe() - prints out the entire spec (params, default values)"
   ]
  },
  {
   "cell_type": "code",
   "execution_count": null,
   "metadata": {},
   "outputs": [],
   "source": [
    "exp0 = experiment(sst.build(), engines.mustache(), name=\"make_source\")\n",
    "exp1 = experiment(sst.network_create(), engines.cpp(), name=\"make_network\")\n",
    "exp2 = experiment(sst.network_update(), engines.python(), name=\"update_network\")\n",
    "exp3 = experiment(sst.simulate(), engines.cpp(), name=\"simulate_network\")\n",
    "\n",
    "multi_step_exp = exp0 >> exp1 >> exp2 >> exp3\n",
    "multi_step_exp.setup(\n",
    "    {\n",
    "        sst.build.template(\"sleep_stage_transition\"),\n",
    "        sst.network_update.network_config(\"test.yml\"),\n",
    "    }\n",
    ")\n",
    "multi_step_exp.describe()\n",
    "\n",
    "with LocalRuntime(True) as r:\n",
    "    multi_step_exp.run_sync(r)\n",
    "    result = multi_step_exp.fetch(r, {sst.simulate.time_cx, sst.simulate.time_tca})\n",
    "print(\"* [Results]\", list(map(str, result)))"
   ]
  },
  {
   "cell_type": "code",
   "execution_count": null,
   "metadata": {},
   "outputs": [],
   "source": [
    "with LocalRuntime(True) as r:\n",
    "\n",
    "    exp0 = experiment(sst.build(), engines.mustache(), name=\"make_source\")\n",
    "    exp0.setup({sst.build.template(\"sleep_stage_transition\")})\n",
    "    exp0.run_sync(r)\n",
    "    res0 = multi_step_exp.fetch(r)\n",
    "\n",
    "    exp1 = experiment(sst.network_create(), engines.cpp(), name=\"make_network\")\n",
    "    exp1.setup({*res0.values()})\n",
    "    exp1.run_sync(r)\n",
    "    res1 = multi_step_exp.fetch(r)\n",
    "\n",
    "    exp2 = experiment(sst.network_update(), engines.python(), name=\"update_network\")\n",
    "    exp2.setup({*res0.values(), *res1.values()})\n",
    "    exp2.run_sync(r)\n",
    "    res2 = multi_step_exp.fetch(r, {sst.simulate.time_cx, sst.simulate.time_tca})\n",
    "\n",
    "    exp3 = experiment(sst.simulate(), engines.cpp(), name=\"simulate_network\")\n",
    "    exp3.setup({*res0.values(), *res1.values(), *res2.values()})\n",
    "    exp3.run_sync(r)\n",
    "    res3 = multi_step_exp.fetch(r, {sst.simulate.time_cx, sst.simulate.time_tca})\n",
    "\n",
    "print(\"* [Results]\", list(map(str, result)))"
   ]
  },
  {
   "cell_type": "code",
   "execution_count": 6,
   "metadata": {},
   "outputs": [
    {
     "name": "stdout",
     "output_type": "stream",
     "text": [
      "3\n",
      "5\n"
     ]
    }
   ],
   "source": [
    "import argparse\n",
    "\n",
    "def create_dynamic_class():\n",
    "\n",
    "    return type(\n",
    "        \"Test\",\n",
    "        (argparse.Namespace,),\n",
    "        {\n",
    "            \"foo\": \"default_foo\",\n",
    "            \"bar\": \"default_bar\",\n",
    "            \"__annotations__\": {\"foo\": str, \"bar\": str},  # Type hinting for Pylance\n",
    "        },\n",
    "    )\n",
    "\n",
    "\n",
    "# Create the dynamic class\n",
    "Test = argparse.Namespace\n",
    "x = Test(foo=3, bar=5)\n",
    "print(x.foo)\n",
    "print(x.bar)"
   ]
  },
  {
   "cell_type": "code",
   "execution_count": 7,
   "metadata": {},
   "outputs": [
    {
     "ename": "NameError",
     "evalue": "name 'large_exp_A' is not defined",
     "output_type": "error",
     "traceback": [
      "\u001b[0;31m---------------------------------------------------------------------------\u001b[0m",
      "\u001b[0;31mNameError\u001b[0m                                 Traceback (most recent call last)",
      "Cell \u001b[0;32mIn[7], line 3\u001b[0m\n\u001b[1;32m      1\u001b[0m \u001b[38;5;28;01mfor\u001b[39;00m i \u001b[38;5;129;01min\u001b[39;00m \u001b[38;5;28mrange\u001b[39m(\u001b[38;5;241m0\u001b[39m, \u001b[38;5;241m100\u001b[39m):\n\u001b[1;32m      2\u001b[0m     \u001b[38;5;66;03m# large_experiment = (exp0 >> exp1 >> exp2)\u001b[39;00m\n\u001b[0;32m----> 3\u001b[0m     \u001b[43mlarge_exp_A\u001b[49m\u001b[38;5;241m.\u001b[39mparams\u001b[38;5;241m.\u001b[39mbuild\u001b[38;5;241m.\u001b[39mawake_GABA_TC_fix \u001b[38;5;241m=\u001b[39m i\n\u001b[1;32m      4\u001b[0m     sst\u001b[38;5;241m.\u001b[39mbuild\u001b[38;5;241m.\u001b[39mawake_GABA_TC_fix \u001b[38;5;241m=\u001b[39m i\n\u001b[1;32m      5\u001b[0m     large_experiment\u001b[38;5;241m.\u001b[39mrun()\n",
      "\u001b[0;31mNameError\u001b[0m: name 'large_exp_A' is not defined"
     ]
    }
   ],
   "source": [
    "for i in range(0, 100):\n",
    "    # large_experiment = (exp0 >> exp1 >> exp2)\n",
    "    large_exp_A.params.build.awake_GABA_TC_fix = i\n",
    "    sst.build.awake_GABA_TC_fix = i\n",
    "    large_experiment.run()\n",
    "\n",
    "wait_for_completion()\n",
    "\n",
    "# large_experiment = (preprocess >> exp1 >> exp2)\n",
    "large_experiment.describe()"
   ]
  },
  {
   "cell_type": "markdown",
   "metadata": {},
   "source": [
    "## Defining a New Experiment from Scratch"
   ]
  },
  {
   "cell_type": "markdown",
   "metadata": {},
   "source": [
    "Here, you can define an experiment outside of the completions database, by specifying the following,\n",
    "(a) the command which to run\n",
    "(b) the engines needed for the command to run\n",
    "(c) the parameters needed for the command to run"
   ]
  },
  {
   "cell_type": "markdown",
   "metadata": {},
   "source": [
    "## Running the Experiment"
   ]
  },
  {
   "cell_type": "markdown",
   "metadata": {},
   "source": [
    "First, let's define the runtime for this experiment. For this example, we will use the local runtime (i.e., the machine this notebook will be executed on)."
   ]
  },
  {
   "cell_type": "code",
   "execution_count": null,
   "metadata": {},
   "outputs": [],
   "source": [
    "# run experiment\n",
    "with LocalRuntime(reuse_past_runs=True) as r:\n",
    "    ref = run(\n",
    "        large_experiment,\n",
    "        [\n",
    "            parameter(connection_info, \"samples/sleep_stage_transition/connection_info\"),\n",
    "            parameter(current_params, \"samples/sleep_stage_transition/params.txt\"),\n",
    "        ],\n",
    "        runtime=r,\n",
    "    )\n",
    "    # fetch an output from experiment execution\n",
    "    [obs] = fetch(*ref, runtime=r, observables=[INsynCore_DEND_G_Nap, awake_GABA_TC])\n",
    "\n",
    "    obs[connection_info].save(\"data/connection_info\")"
   ]
  },
  {
   "cell_type": "markdown",
   "metadata": {},
   "source": [
    "### Running a Secondary Experiment\n",
    "\n",
    "Here, we will use the outputs from the previous experiment run to define and run a second experiment."
   ]
  },
  {
   "cell_type": "code",
   "execution_count": null,
   "metadata": {},
   "outputs": [],
   "source": [
    "with LocalRuntime(reuse_past_runs=True) as r:\n",
    "    # prepare a new experiment with the fetched output as a parameter\n",
    "    ref = run(\n",
    "        experiment(sst.network_update(), engines.python(), name=\"update_network\"),\n",
    "        [\n",
    "            parameter(connection_info, \"data/connection_info\"),\n",
    "            parameter(network_config, \"data/network.cfg\"),\n",
    "        ],\n",
    "        runtime=r,\n",
    "    )\n",
    "    # fetch an output from experiment execution\n",
    "    [obs] = fetch(*ref, runtime=r, observables=[connection_info])\n",
    "    obs[connection_info].save(\"data/connection_info_updated\")"
   ]
  },
  {
   "cell_type": "code",
   "execution_count": null,
   "metadata": {},
   "outputs": [],
   "source": [
    "# run a grid search on s2, using output from s1\n",
    "s1 = experiment(models.neuro_create_network(), engines.neuro_sleep_stage(), name=\"make_network\")\n",
    "s1.describe()\n",
    "\n",
    "s1.run()\n",
    "\n",
    "s2 = experiment(models.sample_make_apples(), engines.neuro_sleep_stage(), name=\"simulate_network\")\n",
    "\n",
    "s1 = ['x', 'y'] -> ['neuro_connection_info']\n",
    "s2 = ['neuro_connection_info', 'a'] -> ['d']\n",
    "\n",
    "s1b = experiment(models.modify_network(), engines.neuro_sleep_stage(), name=\"modify_network\")\n",
    "s = (s1 >> s1b)\n",
    "\n",
    "# 'a' = \"val_a\"\n",
    "# 'b' = \"val_b\"\n",
    "# s2 = ['a', 'b', 'neuro_connection_info'] -> ['d']\n",
    "\n",
    "# as a requirement, s2 should take in a 'neuro_connection_info' as an input\n",
    "\n",
    "s1 >> s2 >> s3\n",
    "\n",
    "['z', 'd']\n",
    "\n",
    "exp = (s1 >> s2)\n",
    "\n",
    "# args\n",
    "args = (\n",
    "    parameter(neuro_network_config, \"samples/sleep_stage_transition/network.cfg\"),\n",
    "    parameter(neuro_connection_info, \"samples/sleep_stage_transition/connection_info\"),\n",
    "    hyperparameter(neuro_current_params, \"samples/sleep_stage_transition/params.txt\"),\n",
    ")"
   ]
  },
  {
   "cell_type": "code",
   "execution_count": null,
   "metadata": {},
   "outputs": [],
   "source": [
    "%run_remote\n",
    "\n",
    "output = ex1 > ex2 > ex3"
   ]
  },
  {
   "cell_type": "code",
   "execution_count": null,
   "metadata": {},
   "outputs": [],
   "source": [
    "%run_local\n",
    "\n",
    "output > ex4"
   ]
  },
  {
   "cell_type": "code",
   "execution_count": null,
   "metadata": {},
   "outputs": [],
   "source": [
    "range_P = [\n",
    "    P.Range(models.stim_current.neuro_connection_info, 0.1, 1.0, 10),\n",
    "    P.Range(models.stim_current.neuro_current_params, 0.1, 1.0, 10),\n",
    "]\n",
    "range_H = [\n",
    "    H.Range(engines.bazhenov_labs_engine.neuro_current_params, 0.1, 1.0, 10),\n",
    "]"
   ]
  },
  {
   "cell_type": "code",
   "execution_count": null,
   "metadata": {},
   "outputs": [],
   "source": [
    "sweep1 = Experiment.Sweep(\"bazhenov_network_grid_search\", (seq1,), range_P, range_H, []) # change syntax\n",
    "sweep1.run(runtime)\n",
    "exChain_obs = sweep1.fetch(runtime)"
   ]
  },
  {
   "cell_type": "code",
   "execution_count": null,
   "metadata": {},
   "outputs": [],
   "source": [
    "# run sweep\n",
    "for p in range_P:\n",
    "    for h in range_H:\n",
    "        "
   ]
  },
  {
   "cell_type": "code",
   "execution_count": null,
   "metadata": {},
   "outputs": [],
   "source": [
    "ex12 = Collection(\n",
    "    name=\"simulate_bhazenov_network\",\n",
    "    models=[models.make_network, models.stim_current],\n",
    "    engine=engines.bazhenov_labs_engine,\n",
    "    parameters=[\n",
    "        models.make_network.neuro_network_config(\"samples/sleep_stage_transition/params.txt\"),\n",
    "        models.stim_current.neuro_current_params(\"samples/sleep_stage_transition/connection_info\")\n",
    "    ],\n",
    "    parameters={\n",
    "        \"neuro_network_config\": P(\"samples/sleep_stage_transition/network.cfg\"),\n",
    "        \"neuro_current_params\": P(\"samples/sleep_stage_transition/params.txt\"),\n",
    "    },\n",
    "    hyperparameters={\n",
    "        \"neuro_current_params\": H(\"samples/sleep_stage_transition/params.txt\"),\n",
    "    },\n",
    "    observables={\n",
    "        \"neuro_time_cx6\": O(\"observables/time_cx6\")\n",
    "    },\n",
    ")\n",
    "\n",
    "runtime = Runtime()\n",
    "ex2.execute(runtime)\n",
    "ex2_obs = ex2.gather_observables(runtime)\n",
    "\n",
    "## POC - double pendulum simulation\n",
    "## Real - replicate simone's experiments\n",
    "\n",
    "\n",
    "# the intersecting observables are piped into the params of the next experiment\n",
    "# only the intersecting observables are shown in autocompletion\n",
    "\n",
    "experiment_2 = create_new_experiment_from(experiment_1)\n",
    "experiment_2.name = \"<>\"\n",
    "experiment_2.parameters[\"neuro/network_config\"] = \"new-value\"\n",
    "experiment.check_existing()\n",
    "\n",
    "experiment.observables\n",
    "\n",
    "experiemnt.validate()\n",
    "experiment.run(\n",
    "hpc_recipe={}\n",
    ")\n",
    "\n",
    "# !!! [collection] - a set of experiments with common observables\n",
    "\n",
    "# observables may be a huge list, so need not provide everytime when its\n",
    "\n",
    "implictly discoverable\n",
    "\n",
    "# to get experiments run with different observables\n",
    "\n",
    "collection = create_collection(\n",
    "model=\"name_of_model\",\n",
    "parameters={\n",
    "\"neuro/network_config\": [],\n",
    "},\n",
    ")\n",
    "\n",
    "# the collection experiments are pulled from the db\n",
    "\n",
    "collection = create_collection(\n",
    "model=[\"model1\", \"model2\", ...],\n",
    "parameters={\n",
    "\"neuro/network_config\": [],\n",
    "},\n",
    "observables={\n",
    "\"neuro/network_config\": [],\n",
    "},\n",
    ") -> [list of experiments]\n",
    "\n",
    "# all experiments sharing the same observables\n",
    "\n",
    "collection = create_collection(\n",
    "observables={\n",
    "\"neuro/network_config\": [],\n",
    "},\n",
    ") -> [list of experiments]\n",
    "\n",
    "collection = [experiment_1, experiment_2]\n",
    "\n",
    "# experiment collection\n",
    "\n",
    "# example of experiment chaining (top-to-bottom mro)\n",
    "\n",
    "# example 1\n",
    "\n",
    "experiment = Experiment(\n",
    "experiment_1,\n",
    "experiment_2,\n",
    ")\n",
    "\n",
    "# example 2\n",
    "\n",
    "experiment = Experiment(\n",
    "[experiment_2, experiment_3, .....], #\n",
    "experiment_1, #\n",
    ")\n",
    "\n",
    "#\n",
    "\n",
    "[\n",
    "exp2 -> exp1,\n",
    "exp3 -> exp1,\n",
    "]\n",
    "\n",
    "# example 3\n",
    "\n",
    "experiment = Experiment(\n",
    "[experiment_2, ...collection.experiments],\n",
    "experiment_1,\n",
    ")"
   ]
  },
  {
   "cell_type": "code",
   "execution_count": null,
   "metadata": {},
   "outputs": [],
   "source": [
    "# analysis part =========================\n",
    "\n",
    "# takes a collection as input,\n",
    "\n",
    "# and runs some function over the observables on that\n",
    "\n",
    "# collection\n",
    "\n",
    "# a primitive form of experiment using a collection of experiments as input\n",
    "\n",
    "analysis = Analysis(\n",
    "collection=[],\n",
    "function={\n",
    "\n",
    "    }\n",
    "\n",
    ")\n",
    "\n",
    "analysis = experiment"
   ]
  }
 ],
 "metadata": {
  "kernelspec": {
   "display_name": "Python 3",
   "language": "python",
   "name": "python3"
  },
  "language_info": {
   "codemirror_mode": {
    "name": "ipython",
    "version": 3
   },
   "file_extension": ".py",
   "mimetype": "text/x-python",
   "name": "python",
   "nbconvert_exporter": "python",
   "pygments_lexer": "ipython3",
   "version": "3.12.7"
  }
 },
 "nbformat": 4,
 "nbformat_minor": 4
}
