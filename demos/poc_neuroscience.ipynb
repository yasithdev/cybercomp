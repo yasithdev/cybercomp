{
 "cells": [
  {
   "cell_type": "markdown",
   "metadata": {},
   "source": [
    "# Cybercomp Example - Neuroscience\n",
    "\n",
    "Here, multiplicity (e.g., Grid Search) should be explicitly defined"
   ]
  },
  {
   "cell_type": "markdown",
   "metadata": {},
   "source": [
    "## Set Up Code Completions"
   ]
  },
  {
   "cell_type": "code",
   "execution_count": 2,
   "metadata": {
    "scrolled": true
   },
   "outputs": [
    {
     "name": "stdout",
     "output_type": "stream",
     "text": [
      "Connected to cybercomp server on http://127.0.0.1:8765\n"
     ]
    },
    {
     "name": "stderr",
     "output_type": "stream",
     "text": [
      "[Types] : 100%|██████████| 242/242 [00:00<00:00, 128973.52it/s]\n"
     ]
    },
    {
     "name": "stdout",
     "output_type": "stream",
     "text": [
      "[Type] Created completions/types/__init__.py\n"
     ]
    },
    {
     "name": "stderr",
     "output_type": "stream",
     "text": [
      "[Models] : 100%|██████████| 10/10 [00:00<00:00, 22477.51it/s]"
     ]
    },
    {
     "name": "stdout",
     "output_type": "stream",
     "text": [
      "[Model] Validated\n",
      "[Model] Validated\n",
      "[Model] Validated\n",
      "[Model] Validated\n",
      "[Model] Validated\n",
      "[Model] Validated\n",
      "[Model] Validated\n",
      "[Model] Validated\n",
      "[Model] Validated\n",
      "[Model] Validated\n",
      "[Module] Created completions/models/__init__.py\n",
      "[Module] Created completions/models/hello_world/__init__.py\n",
      "[Model] Created completions/models/hello_world/create.py\n",
      "[Model] Created completions/models/hello_world/observe.py\n",
      "[Module] Created completions/models/sleep_stage_transition/__init__.py\n"
     ]
    },
    {
     "name": "stderr",
     "output_type": "stream",
     "text": [
      "\n"
     ]
    },
    {
     "name": "stdout",
     "output_type": "stream",
     "text": [
      "[Model] Created completions/models/sleep_stage_transition/build.py\n",
      "[Model] Created completions/models/sleep_stage_transition/network_create.py\n",
      "[Model] Created completions/models/sleep_stage_transition/network_update.py\n",
      "[Model] Created completions/models/sleep_stage_transition/simulate.py\n",
      "[Module] Created completions/models/tunnel_effect/__init__.py\n",
      "[Model] Created completions/models/tunnel_effect/eval_probe.py\n",
      "[Model] Created completions/models/tunnel_effect/load_dataset.py\n",
      "[Model] Created completions/models/tunnel_effect/load_model.py\n",
      "[Model] Created completions/models/tunnel_effect/train_model.py\n"
     ]
    },
    {
     "name": "stderr",
     "output_type": "stream",
     "text": [
      "[Engines] : 100%|██████████| 4/4 [00:00<00:00, 95325.09it/s]\n"
     ]
    },
    {
     "name": "stdout",
     "output_type": "stream",
     "text": [
      "[engine] Created completions/engines/bash.py\n",
      "[engine] Created completions/engines/cpp.py\n",
      "[engine] Created completions/engines/mustache.py\n",
      "[engine] Created completions/engines/python.py\n",
      "[Module] Created completions/engines/__init__.py\n"
     ]
    },
    {
     "name": "stderr",
     "output_type": "stream",
     "text": [
      "[Sources] : 100%|██████████| 3/3 [00:00<00:00, 79638.68it/s]\n"
     ]
    }
   ],
   "source": [
    "from pathlib import Path\n",
    "\n",
    "from cybercomp import API\n",
    "\n",
    "# generate statically typed objects to define experiments\n",
    "api = API(server_url=\"http://127.0.0.1:8765\", base_path=Path(\"./completions\"))\n",
    "api.sync()"
   ]
  },
  {
   "cell_type": "markdown",
   "metadata": {},
   "source": [
    "## Import Cybercomp APIs"
   ]
  },
  {
   "cell_type": "code",
   "execution_count": null,
   "metadata": {},
   "outputs": [],
   "source": [
    "from cybercomp.functional import experiment, hyperparameter, parameter\n",
    "from cybercomp.functional import fetch\n",
    "from cybercomp.runtimes import LocalRuntime\n",
    "\n",
    "from completions import engines, models\n",
    "from completions.types import *"
   ]
  },
  {
   "cell_type": "markdown",
   "metadata": {},
   "source": [
    "## Exploring Available Models"
   ]
  },
  {
   "cell_type": "code",
   "execution_count": null,
   "metadata": {},
   "outputs": [],
   "source": [
    "import completions.models.sleep_stage_transition as sst\n",
    "\n",
    "sst.build.describe();\n",
    "sst.network_create.describe();\n",
    "sst.network_update.describe();\n",
    "sst.simulate.describe();"
   ]
  },
  {
   "cell_type": "markdown",
   "metadata": {},
   "source": [
    "## Defining a Multi-Step Experiment"
   ]
  },
  {
   "cell_type": "markdown",
   "metadata": {},
   "source": [
    "Here, you can define individual experiments (i.e., steps) and chain them into larger experiments, if need be.\n",
    "Internally, Cybercomp will connect the outputs from previous experiments into subsequent experiments that depend on them.\n",
    "Users only need to provide the non-inferrable parameters / hyperparameters."
   ]
  },
  {
   "cell_type": "code",
   "execution_count": null,
   "metadata": {},
   "outputs": [],
   "source": [
    "# @giri: create_model example\n",
    "# M = create_model(‘g++ -O2 generate_network.cpp -o generete _network’, params_file = ‘networks.cfg’\n",
    "# M.describe() - prints out the entire spec (params, default values)\n",
    "\n",
    "exp0 = experiment(sst.build(), engines.mustache(), name=\"make_source\")\n",
    "\n",
    "exp0.setup({\n",
    "    sst.build.template(\"sleep_stage_transition\"),\n",
    "    sst.build.overrides(\"test.yml\")\n",
    "})\n",
    "with LocalRuntime(True) as r:\n",
    "    exp0.run_sync(r)\n",
    "    \n",
    "    result = exp0.fetch(r, {sst.build.code})\n",
    "    print(result)\n",
    "\n",
    "# exp0.run((\n",
    "#     parameter(sst.build., \"source.cpp\"),\n",
    "#     parameter(\"output\", \"source.o\"),\n",
    "#     parameter(\"flags\", \"-O2\"),\n",
    "# ), runtime=LocalRuntime())\n",
    "\n",
    "# exp1a = experiment(sst.network_create(), engines.cpp(), name=\"make_network\")\n",
    "# exp1b = experiment(sst.network_update(), engines.python(), name=\"update_network\")\n",
    "# exp2 = experiment(sst.simulate(), engines.cpp(), name=\"simulate_network\")\n",
    "\n",
    "# large_exp_A = exp0 >> exp1a >> exp2\n",
    "large_exp_A.setup({\n",
    "    template=\"sleep_stage_transition\"),\n",
    "    overrides=\"test.yml\"\n",
    "})\n",
    "large_exp_A.run_sync(r)\n",
    "\n",
    "# large_exp_B = exp0 >> exp1a >> exp1b >> exp2\n",
    "# large_exp_B.describe()"
   ]
  },
  {
   "cell_type": "code",
   "execution_count": null,
   "metadata": {},
   "outputs": [],
   "source": [
    "import argparse\n",
    "\n",
    "def create_dynamic_class():\n",
    "\n",
    "    return type(\n",
    "        \"Test\",\n",
    "        (argparse.Namespace,),\n",
    "        {\n",
    "            \"foo\": \"default_foo\",\n",
    "            \"bar\": \"default_bar\",\n",
    "            \"__annotations__\": {\"foo\": str, \"bar\": str},  # Type hinting for Pylance\n",
    "        },\n",
    "    )\n",
    "\n",
    "\n",
    "# Create the dynamic class\n",
    "Test = argparse.Namespace\n",
    "x = Test(foo=3, bar=5)\n",
    "print(x.foo)\n",
    "print(x.bar)"
   ]
  },
  {
   "cell_type": "code",
   "execution_count": null,
   "metadata": {},
   "outputs": [],
   "source": [
    "for i in range(0, 100):\n",
    "    # large_experiment = (exp0 >> exp1 >> exp2)\n",
    "    large_exp_A.params.build.awake_GABA_TC_fix = i\n",
    "    sst.build.awake_GABA_TC_fix = i\n",
    "    large_experiment.run()\n",
    "\n",
    "wait_for_completion()\n",
    "\n",
    "# large_experiment = (preprocess >> exp1 >> exp2)\n",
    "large_experiment.describe()"
   ]
  },
  {
   "cell_type": "markdown",
   "metadata": {},
   "source": [
    "## Defining a New Experiment from Scratch"
   ]
  },
  {
   "cell_type": "markdown",
   "metadata": {},
   "source": [
    "Here, you can define an experiment outside of the completions database, by specifying the following,\n",
    "(a) the command which to run\n",
    "(b) the engines needed for the command to run\n",
    "(c) the parameters needed for the command to run"
   ]
  },
  {
   "cell_type": "markdown",
   "metadata": {},
   "source": [
    "## Running the Experiment"
   ]
  },
  {
   "cell_type": "markdown",
   "metadata": {},
   "source": [
    "First, let's define the runtime for this experiment. For this example, we will use the local runtime (i.e., the machine this notebook will be executed on)."
   ]
  },
  {
   "cell_type": "code",
   "execution_count": null,
   "metadata": {},
   "outputs": [],
   "source": [
    "# run experiment\n",
    "with LocalRuntime(reuse_past_runs=True) as r:\n",
    "    ref = run(\n",
    "        large_experiment,\n",
    "        [\n",
    "            parameter(connection_info, \"samples/sleep_stage_transition/connection_info\"),\n",
    "            parameter(current_params, \"samples/sleep_stage_transition/params.txt\"),\n",
    "        ],\n",
    "        runtime=r,\n",
    "    )\n",
    "    # fetch an output from experiment execution\n",
    "    [obs] = fetch(*ref, runtime=r, observables=[INsynCore_DEND_G_Nap, awake_GABA_TC])\n",
    "\n",
    "    obs[connection_info].save(\"data/connection_info\")"
   ]
  },
  {
   "cell_type": "markdown",
   "metadata": {},
   "source": [
    "### Running a Secondary Experiment\n",
    "\n",
    "Here, we will use the outputs from the previous experiment run to define and run a second experiment."
   ]
  },
  {
   "cell_type": "code",
   "execution_count": null,
   "metadata": {},
   "outputs": [],
   "source": [
    "with LocalRuntime(reuse_past_runs=True) as r:\n",
    "    # prepare a new experiment with the fetched output as a parameter\n",
    "    ref = run(\n",
    "        experiment(sst.network_update(), engines.python(), name=\"update_network\"),\n",
    "        [\n",
    "            parameter(connection_info, \"data/connection_info\"),\n",
    "            parameter(network_config, \"data/network.cfg\"),\n",
    "        ],\n",
    "        runtime=r,\n",
    "    )\n",
    "    # fetch an output from experiment execution\n",
    "    [obs] = fetch(*ref, runtime=r, observables=[connection_info])\n",
    "    obs[connection_info].save(\"data/connection_info_updated\")"
   ]
  },
  {
   "cell_type": "code",
   "execution_count": null,
   "metadata": {},
   "outputs": [],
   "source": [
    "# run a grid search on s2, using output from s1\n",
    "s1 = experiment(models.neuro_create_network(), engines.neuro_sleep_stage(), name=\"make_network\")\n",
    "s1.describe()\n",
    "\n",
    "s1.run()\n",
    "\n",
    "s2 = experiment(models.sample_make_apples(), engines.neuro_sleep_stage(), name=\"simulate_network\")\n",
    "\n",
    "s1 = ['x', 'y'] -> ['neuro_connection_info']\n",
    "s2 = ['neuro_connection_info', 'a'] -> ['d']\n",
    "\n",
    "s1b = experiment(models.modify_network(), engines.neuro_sleep_stage(), name=\"modify_network\")\n",
    "s = (s1 >> s1b)\n",
    "\n",
    "# 'a' = \"val_a\"\n",
    "# 'b' = \"val_b\"\n",
    "# s2 = ['a', 'b', 'neuro_connection_info'] -> ['d']\n",
    "\n",
    "# as a requirement, s2 should take in a 'neuro_connection_info' as an input\n",
    "\n",
    "s1 >> s2 >> s3\n",
    "\n",
    "['z', 'd']\n",
    "\n",
    "exp = (s1 >> s2)\n",
    "\n",
    "# args\n",
    "args = (\n",
    "    parameter(neuro_network_config, \"samples/sleep_stage_transition/network.cfg\"),\n",
    "    parameter(neuro_connection_info, \"samples/sleep_stage_transition/connection_info\"),\n",
    "    hyperparameter(neuro_current_params, \"samples/sleep_stage_transition/params.txt\"),\n",
    ")"
   ]
  },
  {
   "cell_type": "code",
   "execution_count": null,
   "metadata": {},
   "outputs": [],
   "source": [
    "%run_remote\n",
    "\n",
    "output = ex1 > ex2 > ex3"
   ]
  },
  {
   "cell_type": "code",
   "execution_count": null,
   "metadata": {},
   "outputs": [],
   "source": [
    "%run_local\n",
    "\n",
    "output > ex4"
   ]
  },
  {
   "cell_type": "code",
   "execution_count": null,
   "metadata": {},
   "outputs": [],
   "source": [
    "range_P = [\n",
    "    P.Range(models.stim_current.neuro_connection_info, 0.1, 1.0, 10),\n",
    "    P.Range(models.stim_current.neuro_current_params, 0.1, 1.0, 10),\n",
    "]\n",
    "range_H = [\n",
    "    H.Range(engines.bazhenov_labs_engine.neuro_current_params, 0.1, 1.0, 10),\n",
    "]"
   ]
  },
  {
   "cell_type": "code",
   "execution_count": null,
   "metadata": {},
   "outputs": [],
   "source": [
    "sweep1 = Experiment.Sweep(\"bazhenov_network_grid_search\", (seq1,), range_P, range_H, []) # change syntax\n",
    "sweep1.run(runtime)\n",
    "exChain_obs = sweep1.fetch(runtime)"
   ]
  },
  {
   "cell_type": "code",
   "execution_count": null,
   "metadata": {},
   "outputs": [],
   "source": [
    "# run sweep\n",
    "for p in range_P:\n",
    "    for h in range_H:\n",
    "        "
   ]
  },
  {
   "cell_type": "code",
   "execution_count": null,
   "metadata": {},
   "outputs": [],
   "source": [
    "ex12 = Collection(\n",
    "    name=\"simulate_bhazenov_network\",\n",
    "    models=[models.make_network, models.stim_current],\n",
    "    engine=engines.bazhenov_labs_engine,\n",
    "    parameters=[\n",
    "        models.make_network.neuro_network_config(\"samples/sleep_stage_transition/params.txt\"),\n",
    "        models.stim_current.neuro_current_params(\"samples/sleep_stage_transition/connection_info\")\n",
    "    ],\n",
    "    parameters={\n",
    "        \"neuro_network_config\": P(\"samples/sleep_stage_transition/network.cfg\"),\n",
    "        \"neuro_current_params\": P(\"samples/sleep_stage_transition/params.txt\"),\n",
    "    },\n",
    "    hyperparameters={\n",
    "        \"neuro_current_params\": H(\"samples/sleep_stage_transition/params.txt\"),\n",
    "    },\n",
    "    observables={\n",
    "        \"neuro_time_cx6\": O(\"observables/time_cx6\")\n",
    "    },\n",
    ")\n",
    "\n",
    "runtime = Runtime()\n",
    "ex2.execute(runtime)\n",
    "ex2_obs = ex2.gather_observables(runtime)\n",
    "\n",
    "## POC - double pendulum simulation\n",
    "## Real - replicate simone's experiments\n",
    "\n",
    "\n",
    "# the intersecting observables are piped into the params of the next experiment\n",
    "# only the intersecting observables are shown in autocompletion\n",
    "\n",
    "experiment_2 = create_new_experiment_from(experiment_1)\n",
    "experiment_2.name = \"<>\"\n",
    "experiment_2.parameters[\"neuro/network_config\"] = \"new-value\"\n",
    "experiment.check_existing()\n",
    "\n",
    "experiment.observables\n",
    "\n",
    "experiemnt.validate()\n",
    "experiment.run(\n",
    "hpc_recipe={}\n",
    ")\n",
    "\n",
    "# !!! [collection] - a set of experiments with common observables\n",
    "\n",
    "# observables may be a huge list, so need not provide everytime when its\n",
    "\n",
    "implictly discoverable\n",
    "\n",
    "# to get experiments run with different observables\n",
    "\n",
    "collection = create_collection(\n",
    "model=\"name_of_model\",\n",
    "parameters={\n",
    "\"neuro/network_config\": [],\n",
    "},\n",
    ")\n",
    "\n",
    "# the collection experiments are pulled from the db\n",
    "\n",
    "collection = create_collection(\n",
    "model=[\"model1\", \"model2\", ...],\n",
    "parameters={\n",
    "\"neuro/network_config\": [],\n",
    "},\n",
    "observables={\n",
    "\"neuro/network_config\": [],\n",
    "},\n",
    ") -> [list of experiments]\n",
    "\n",
    "# all experiments sharing the same observables\n",
    "\n",
    "collection = create_collection(\n",
    "observables={\n",
    "\"neuro/network_config\": [],\n",
    "},\n",
    ") -> [list of experiments]\n",
    "\n",
    "collection = [experiment_1, experiment_2]\n",
    "\n",
    "# experiment collection\n",
    "\n",
    "# example of experiment chaining (top-to-bottom mro)\n",
    "\n",
    "# example 1\n",
    "\n",
    "experiment = Experiment(\n",
    "experiment_1,\n",
    "experiment_2,\n",
    ")\n",
    "\n",
    "# example 2\n",
    "\n",
    "experiment = Experiment(\n",
    "[experiment_2, experiment_3, .....], #\n",
    "experiment_1, #\n",
    ")\n",
    "\n",
    "#\n",
    "\n",
    "[\n",
    "exp2 -> exp1,\n",
    "exp3 -> exp1,\n",
    "]\n",
    "\n",
    "# example 3\n",
    "\n",
    "experiment = Experiment(\n",
    "[experiment_2, ...collection.experiments],\n",
    "experiment_1,\n",
    ")"
   ]
  },
  {
   "cell_type": "code",
   "execution_count": null,
   "metadata": {},
   "outputs": [],
   "source": [
    "# analysis part =========================\n",
    "\n",
    "# takes a collection as input,\n",
    "\n",
    "# and runs some function over the observables on that\n",
    "\n",
    "# collection\n",
    "\n",
    "# a primitive form of experiment using a collection of experiments as input\n",
    "\n",
    "analysis = Analysis(\n",
    "collection=[],\n",
    "function={\n",
    "\n",
    "    }\n",
    "\n",
    ")\n",
    "\n",
    "analysis = experiment"
   ]
  }
 ],
 "metadata": {
  "kernelspec": {
   "display_name": "Python 3",
   "language": "python",
   "name": "python3"
  },
  "language_info": {
   "codemirror_mode": {
    "name": "ipython",
    "version": 3
   },
   "file_extension": ".py",
   "mimetype": "text/x-python",
   "name": "python",
   "nbconvert_exporter": "python",
   "pygments_lexer": "ipython3",
   "version": "3.12.7"
  }
 },
 "nbformat": 4,
 "nbformat_minor": 4
}
