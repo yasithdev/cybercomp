{
 "cells": [
  {
   "cell_type": "markdown",
   "metadata": {},
   "source": [
    "# Bottom-Up Flavor \n",
    "\n",
    "Here, multiplicity is inferred from the given parameters/hyperparameters"
   ]
  },
  {
   "cell_type": "code",
   "execution_count": null,
   "metadata": {},
   "outputs": [],
   "source": [
    "%pip install -e ../cybercomp-python-sdk"
   ]
  },
  {
   "cell_type": "code",
   "execution_count": 1,
   "metadata": {},
   "outputs": [
    {
     "name": "stdout",
     "output_type": "stream",
     "text": [
      "Connected to cybercomp server on http://127.0.0.1:8765\n",
      "[Type] Loaded dl_dataset\n",
      "[Type] Loaded dl_dataset_name\n",
      "[Type] Loaded dl_epochs\n",
      "[Type] Loaded dl_eval_metric\n",
      "[Type] Loaded dl_model\n",
      "[Type] Loaded dl_model_name\n",
      "[Type] Loaded dl_model_weights\n",
      "[Type] Loaded dl_optimizer\n",
      "[Type] Loaded dl_probe_layer\n",
      "[Type] Loaded dl_scheduler\n",
      "[Type] Loaded neuro_3D_distance\n",
      "[Type] Loaded neuro_3D_subnet\n",
      "[Type] Loaded neuro_connection_info\n",
      "[Type] Loaded neuro_current_params\n",
      "[Type] Loaded neuro_current_stim\n",
      "[Type] Loaded neuro_cx_cx_g_ampa0\n",
      "[Type] Loaded neuro_dat\n",
      "[Type] Loaded neuro_field_file_0\n",
      "[Type] Loaded neuro_field_file_1\n",
      "[Type] Loaded neuro_field_file_2\n",
      "[Type] Loaded neuro_field_file_3\n",
      "[Type] Loaded neuro_field_file_4\n",
      "[Type] Loaded neuro_field_file_5\n",
      "[Type] Loaded neuro_field_file_6\n",
      "[Type] Loaded neuro_field_file_7\n",
      "[Type] Loaded neuro_graf_cx\n",
      "[Type] Loaded neuro_graf_cx6\n",
      "[Type] Loaded neuro_graf_cxa\n",
      "[Type] Loaded neuro_graf_in\n",
      "[Type] Loaded neuro_graf_in6\n",
      "[Type] Loaded neuro_graf_ina\n",
      "[Type] Loaded neuro_graf_re\n",
      "[Type] Loaded neuro_graf_tc\n",
      "[Type] Loaded neuro_graf_tca\n",
      "[Type] Loaded neuro_mri_network\n",
      "[Type] Loaded neuro_network_config\n",
      "[Type] Loaded neuro_time_G_AMPA0_CX_CX\n",
      "[Type] Loaded neuro_time_G_AMPA0_CX_CXa\n",
      "[Type] Loaded neuro_time_G_AMPA0_CXa_CX\n",
      "[Type] Loaded neuro_time_G_AMPA0_CXa_CXa\n",
      "[Type] Loaded neuro_time_cx\n",
      "[Type] Loaded neuro_time_cx6\n",
      "[Type] Loaded neuro_time_cxa\n",
      "[Type] Loaded neuro_time_in\n",
      "[Type] Loaded neuro_time_in6\n",
      "[Type] Loaded neuro_time_ina\n",
      "[Type] Loaded neuro_time_re\n",
      "[Type] Loaded neuro_time_tc\n",
      "[Type] Loaded neuro_time_tca\n",
      "[Type] Loaded sample_apple\n",
      "[Type] Loaded sample_apple_config\n",
      "[Type] Loaded sample_orange\n",
      "[Type] Created completions/types/__init__.py\n",
      "[Model] Loaded apples_to_oranges\n",
      "[Model] Validated\n",
      "[Model] Loaded load_dataset\n",
      "[Model] Validated\n",
      "[Model] Loaded load_model\n",
      "[Model] Validated\n",
      "[Model] Loaded make_apples\n",
      "[Model] Validated\n",
      "[Model] Loaded make_network\n",
      "[Model] Validated\n",
      "[Model] Loaded stim_current\n",
      "[Model] Validated\n",
      "[Model] Loaded train_model\n",
      "[Model] Validated\n",
      "[Model] Loaded train_probe\n",
      "[Model] Validated\n",
      "[Model] Created completions/models/apples_to_oranges.py\n",
      "[Model] Created completions/models/load_dataset.py\n",
      "[Model] Created completions/models/load_model.py\n",
      "[Model] Created completions/models/make_apples.py\n",
      "[Model] Created completions/models/make_network.py\n",
      "[Model] Created completions/models/stim_current.py\n",
      "[Model] Created completions/models/train_model.py\n",
      "[Model] Created completions/models/train_probe.py\n",
      "[Module] Created completions/models/__init__.py\n",
      "[Engine] Loaded bazhenov_labs_engine\n",
      "[Engine] Loaded sample_engine\n",
      "[engine] Created completions/engines/bazhenov_labs_engine.py\n",
      "[engine] Created completions/engines/sample_engine.py\n",
      "[Module] Created completions/engines/__init__.py\n",
      "[Source] Loaded SPARC\n",
      "[Source] Loaded md-experiment\n",
      "[Source] Loaded sample\n",
      "[Source] Loaded sleep-stage-transition\n",
      "[Source] Loaded tunnel_effect_codes\n"
     ]
    }
   ],
   "source": [
    "from pathlib import Path\n",
    "\n",
    "from cybercomp import Completions\n",
    "\n",
    "# generate statically typed objects to define experiments\n",
    "completions = Completions(\n",
    "    server_url=\"http://127.0.0.1:8765\",\n",
    "    base_path=Path(\"./completions\"),\n",
    ")\n",
    "completions.sync()"
   ]
  },
  {
   "cell_type": "code",
   "execution_count": 2,
   "metadata": {},
   "outputs": [],
   "source": [
    "from cybercomp.functional import parameter, hyperparameter, observation, step, experiment\n",
    "from cybercomp import Runtime\n",
    "from completions import models, engines\n",
    "from completions.types import *"
   ]
  },
  {
   "cell_type": "code",
   "execution_count": 4,
   "metadata": {},
   "outputs": [
    {
     "name": "stdout",
     "output_type": "stream",
     "text": [
      "name=[make_network+simulate_network], steps=[make_network>>simulate_network]\n"
     ]
    }
   ],
   "source": [
    "# define a simple experiment\n",
    "ex1 = experiment(\n",
    "    step(models.make_network(), engines.bazhenov_labs_engine(), name=\"make_network\"),\n",
    "    step(models.stim_current(), engines.bazhenov_labs_engine(), name=\"simulate_network\"),\n",
    ")\n",
    "print(ex1)"
   ]
  },
  {
   "cell_type": "code",
   "execution_count": 5,
   "metadata": {},
   "outputs": [
    {
     "name": "stdout",
     "output_type": "stream",
     "text": [
      "name=[make_network+simulate_network], steps=[make_network>>simulate_network]\n"
     ]
    }
   ],
   "source": [
    "# alternative definition\n",
    "s1 = step(models.make_network(), engines.bazhenov_labs_engine(), name=\"make_network\")\n",
    "s2 = step(models.stim_current(), engines.bazhenov_labs_engine(), name=\"simulate_network\")\n",
    "ex1 = s1 >> s2\n",
    "print(ex1)"
   ]
  },
  {
   "cell_type": "code",
   "execution_count": 6,
   "metadata": {},
   "outputs": [],
   "source": [
    "# define a runtime (local)\n",
    "r = Runtime()"
   ]
  },
  {
   "cell_type": "code",
   "execution_count": 6,
   "metadata": {},
   "outputs": [],
   "source": [
    "# run the simple experiment\n",
    "args = (\n",
    "    parameter(neuro_network_config, \"samples/sleep_stage_transition/network.cfg\"),\n",
    "    parameter(neuro_connection_info, \"samples/sleep_stage_transition/connection_info\"),\n",
    "    hyperparameter(neuro_current_params, \"samples/sleep_stage_transition/params.txt\"),\n",
    ")\n",
    "ex1.run(args, runtime=r)\n",
    "ex1.fetch(\n",
    "    args,\n",
    "    runtime=r,\n",
    "    observables=[\n",
    "        observation(neuro_time_in, \"samples/sleep_stage_transition/neuro_time_in\"),\n",
    "    ],\n",
    ")"
   ]
  },
  {
   "cell_type": "code",
   "execution_count": null,
   "metadata": {},
   "outputs": [],
   "source": [
    "# create a grid search type experiment\n",
    "s1 = step(models.make_network(), engines.bazhenov_labs_engine(), name=\"make_network\")\n",
    "s2 = step(models.stim_current(), engines.bazhenov_labs_engine(), name=\"simulate_network\")\n",
    "ex1 = s1 >> s2\n",
    "replicate(ex1, )"
   ]
  },
  {
   "cell_type": "code",
   "execution_count": null,
   "metadata": {},
   "outputs": [],
   "source": [
    "# define a runtime for the experiments\n",
    "runtime = Runtime()\n",
    "\n",
    "# experiments can be chained into a larger experiment\n",
    "# here, the parameters and observables of the second experiment are resolved\n",
    "# from the second experiment, and can be overridden.\n",
    "# the operator validates the parameters and warns if any parameter is missing.\n",
    "ex1 > ex2 > (ex3 | ex4 | ex5) > ex6\n",
    "\n",
    "ex6 = () # ex1 > ex2 > (ex3 | ex4 | ex5) > ex6 must be inferred\n",
    "\n",
    "seq1 = experiment(\n",
    "    name=\"bazhenov_network\",\n",
    "    context=(ex1 >> ex2,)\n",
    ")\n",
    "print(isinstance(seq1, Experiment))"
   ]
  },
  {
   "cell_type": "code",
   "execution_count": null,
   "metadata": {},
   "outputs": [],
   "source": [
    "%run_remote\n",
    "\n",
    "output = ex1 > ex2 > ex3"
   ]
  },
  {
   "cell_type": "code",
   "execution_count": null,
   "metadata": {},
   "outputs": [],
   "source": [
    "%run_local\n",
    "\n",
    "output > ex4"
   ]
  },
  {
   "cell_type": "code",
   "execution_count": 7,
   "metadata": {},
   "outputs": [],
   "source": [
    "range_P = [\n",
    "    P.Range(models.stim_current.neuro_connection_info, 0.1, 1.0, 10),\n",
    "    P.Range(models.stim_current.neuro_current_params, 0.1, 1.0, 10),\n",
    "]\n",
    "range_H = [\n",
    "    H.Range(engines.bazhenov_labs_engine.neuro_current_params, 0.1, 1.0, 10),\n",
    "]"
   ]
  },
  {
   "cell_type": "code",
   "execution_count": null,
   "metadata": {},
   "outputs": [],
   "source": [
    "sweep1 = Experiment.Sweep(\"bazhenov_network_grid_search\", (seq1,), range_P, range_H, []) # change syntax\n",
    "sweep1.run(runtime)\n",
    "exChain_obs = sweep1.fetch(runtime)"
   ]
  },
  {
   "cell_type": "code",
   "execution_count": null,
   "metadata": {},
   "outputs": [],
   "source": [
    "# run sweep\n",
    "for p in range_P:\n",
    "    for h in range_H:\n",
    "        "
   ]
  },
  {
   "cell_type": "code",
   "execution_count": null,
   "metadata": {},
   "outputs": [],
   "source": [
    "ex12 = Collection(\n",
    "    name=\"simulate_bhazenov_network\",\n",
    "    models=[models.make_network, models.stim_current],\n",
    "    engine=engines.bazhenov_labs_engine,\n",
    "    parameters=[\n",
    "        models.make_network.neuro_network_config(\"samples/sleep_stage_transition/params.txt\"),\n",
    "        models.stim_current.neuro_current_params(\"samples/sleep_stage_transition/connection_info\")\n",
    "    ],\n",
    "    parameters={\n",
    "        \"neuro_network_config\": P(\"samples/sleep_stage_transition/network.cfg\"),\n",
    "        \"neuro_current_params\": P(\"samples/sleep_stage_transition/params.txt\"),\n",
    "    },\n",
    "    hyperparameters={\n",
    "        \"neuro_current_params\": H(\"samples/sleep_stage_transition/params.txt\"),\n",
    "    },\n",
    "    observables={\n",
    "        \"neuro_time_cx6\": O(\"observables/time_cx6\")\n",
    "    },\n",
    ")\n",
    "\n",
    "runtime = Runtime()\n",
    "ex2.execute(runtime)\n",
    "ex2_obs = ex2.gather_observables(runtime)\n",
    "\n",
    "## POC - double pendulum simulation\n",
    "## Real - replicate simone's experiments\n",
    "\n",
    "\n",
    "# the intersecting observables are piped into the params of the next experiment\n",
    "# only the intersecting observables are shown in autocompletion\n",
    "\n",
    "experiment_2 = create_new_experiment_from(experiment_1)\n",
    "experiment_2.name = \"<>\"\n",
    "experiment_2.parameters[\"neuro/network_config\"] = \"new-value\"\n",
    "experiment.check_existing()\n",
    "\n",
    "experiment.observables\n",
    "\n",
    "experiemnt.validate()\n",
    "experiment.run(\n",
    "hpc_recipe={}\n",
    ")\n",
    "\n",
    "# !!! [collection] - a set of experiments with common observables\n",
    "\n",
    "# observables may be a huge list, so need not provide everytime when its\n",
    "\n",
    "implictly discoverable\n",
    "\n",
    "# to get experiments run with different observables\n",
    "\n",
    "collection = create_collection(\n",
    "model=\"name_of_model\",\n",
    "parameters={\n",
    "\"neuro/network_config\": [],\n",
    "},\n",
    ")\n",
    "\n",
    "# the collection experiments are pulled from the db\n",
    "\n",
    "collection = create_collection(\n",
    "model=[\"model1\", \"model2\", ...],\n",
    "parameters={\n",
    "\"neuro/network_config\": [],\n",
    "},\n",
    "observables={\n",
    "\"neuro/network_config\": [],\n",
    "},\n",
    ") -> [list of experiments]\n",
    "\n",
    "# all experiments sharing the same observables\n",
    "\n",
    "collection = create_collection(\n",
    "observables={\n",
    "\"neuro/network_config\": [],\n",
    "},\n",
    ") -> [list of experiments]\n",
    "\n",
    "collection = [experiment_1, experiment_2]\n",
    "\n",
    "# experiment collection\n",
    "\n",
    "# example of experiment chaining (top-to-bottom mro)\n",
    "\n",
    "# example 1\n",
    "\n",
    "experiment = Experiment(\n",
    "experiment_1,\n",
    "experiment_2,\n",
    ")\n",
    "\n",
    "# example 2\n",
    "\n",
    "experiment = Experiment(\n",
    "[experiment_2, experiment_3, .....], #\n",
    "experiment_1, #\n",
    ")\n",
    "\n",
    "#\n",
    "\n",
    "[\n",
    "exp2 -> exp1,\n",
    "exp3 -> exp1,\n",
    "]\n",
    "\n",
    "# example 3\n",
    "\n",
    "experiment = Experiment(\n",
    "[experiment_2, ...collection.experiments],\n",
    "experiment_1,\n",
    ")"
   ]
  },
  {
   "cell_type": "code",
   "execution_count": null,
   "metadata": {},
   "outputs": [],
   "source": [
    "# analysis part =========================\n",
    "\n",
    "# takes a collection as input,\n",
    "\n",
    "# and runs some function over the observables on that\n",
    "\n",
    "# collection\n",
    "\n",
    "# a primitive form of experiment using a collection of experiments as input\n",
    "\n",
    "analysis = Analysis(\n",
    "collection=[],\n",
    "function={\n",
    "\n",
    "    }\n",
    "\n",
    ")\n",
    "\n",
    "analysis = experiment"
   ]
  }
 ],
 "metadata": {
  "kernelspec": {
   "display_name": "Python 3",
   "language": "python",
   "name": "python3"
  },
  "language_info": {
   "codemirror_mode": {
    "name": "ipython",
    "version": 3
   },
   "file_extension": ".py",
   "mimetype": "text/x-python",
   "name": "python",
   "nbconvert_exporter": "python",
   "pygments_lexer": "ipython3",
   "version": "3.10.14"
  }
 },
 "nbformat": 4,
 "nbformat_minor": 2
}
